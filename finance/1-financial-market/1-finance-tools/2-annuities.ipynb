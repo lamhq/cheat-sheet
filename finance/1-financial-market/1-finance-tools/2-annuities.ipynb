{
 "cells": [
  {
   "attachments": {},
   "cell_type": "markdown",
   "metadata": {},
   "source": [
    "# Annuities"
   ]
  },
  {
   "cell_type": "code",
   "execution_count": 21,
   "metadata": {
    "collapsed": true
   },
   "outputs": [],
   "source": [
    "def adf(r, n):\n",
    "    return ( 1 - (1+r)**(-n) ) / r\n",
    "\n",
    "def acf(r, n):\n",
    "    return ( (1+r)**n - 1 ) / r\n",
    "\n",
    "def fv(c, r, n):\n",
    "    return c * acf(r, n)\n",
    "    \n",
    "def pv(c, r, n):\n",
    "    return c * adf(r, n)\n",
    "\n",
    "def cFromPV(pv, r, n):\n",
    "    return pv / adf(r, n)\n",
    "\n",
    "def cFromFV(fv, r, n):\n",
    "    return fv / acf(r, n)"
   ]
  },
  {
   "cell_type": "code",
   "execution_count": 29,
   "metadata": {
    "collapsed": true
   },
   "outputs": [
    {
     "data": {
      "text/plain": [
       "45642.72834542962"
      ]
     },
     "execution_count": 29,
     "metadata": {},
     "output_type": "execute_result"
    }
   ],
   "source": [
    "pv(c=5000, r=0.18/2, n=10*2)"
   ]
  }
 ],
 "metadata": {
  "kernelspec": {
   "display_name": "Python 3.8.9 ('.venv': venv)",
   "language": "python",
   "name": "python3"
  },
  "language_info": {
   "codemirror_mode": {
    "name": "ipython",
    "version": 3
   },
   "file_extension": ".py",
   "mimetype": "text/x-python",
   "name": "python",
   "nbconvert_exporter": "python",
   "pygments_lexer": "ipython3",
   "version": "3.8.9"
  },
  "orig_nbformat": 4,
  "vscode": {
   "interpreter": {
    "hash": "4d89d975450d2c50172f090a4af740770fc05aa7b50e2bf82c37d2bcf44fd2b6"
   }
  }
 },
 "nbformat": 4,
 "nbformat_minor": 2
}
