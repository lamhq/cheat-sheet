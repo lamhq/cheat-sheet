{
 "cells": [
  {
   "attachments": {},
   "cell_type": "markdown",
   "metadata": {},
   "source": [
    "# Mean-variance optimization"
   ]
  },
  {
   "cell_type": "code",
   "execution_count": 40,
   "metadata": {},
   "outputs": [],
   "source": [
    "from typing import List\n",
    "import pandas as pd\n",
    "import numpy as np\n",
    "import matplotlib.pyplot as plt\n",
    "from scipy.optimize import minimize\n",
    "\n",
    "def calc_cov(deviations: np.ndarray, cor: np.ndarray) -> np.ndarray:\n",
    "    \"\"\"\n",
    "    This function calculates the covariance matrix based on a given correlation matrix and array of standard deviations.\n",
    "\n",
    "    Args:\n",
    "    - deviations (np.ndarray): 1D array of standard deviations for each variable.\n",
    "    - cor (np.ndarray): 2D correlation matrix.\n",
    "\n",
    "    Returns:\n",
    "    - 2D covariance matrix calculated from the input arrays.\n",
    "    \"\"\"\n",
    "    # Calculate the outer product of the standard deviations to get a matrix of variances\n",
    "    variances = np.outer(deviations, deviations)\n",
    "    \n",
    "    # Calculate the covariance matrix by element-wise multiplication of the correlation matrix with the variance matrix\n",
    "    return cor * variances\n",
    "\n",
    "def portolio_return(weights, returns):\n",
    "    return np.dot(weights, returns)\n",
    "\n",
    "def portfolio_variance(weights, cov_matrix):\n",
    "    port_variance = np.dot(np.dot(weights, cov_matrix), weights.T)\n",
    "    return port_variance\n",
    "\n",
    "def sharpe_ratio(weights, returns, cov_matrix, rf_return):\n",
    "    return (portolio_return(weights, returns) - rf_return) / \\\n",
    "        (portfolio_variance(weights, cov_matrix)**0.5)\n",
    "\n",
    "def find_mve(returns, cov_matrix, rf_return):\n",
    "    \"\"\"\n",
    "    This is a function to find the weights of a Mean-variance Efficient Portfolio (MVE) that maximizes the Sharpe Ratio.\n",
    "\n",
    "    Parameters\n",
    "    ----------\n",
    "    - returns:   : an array of expected returns for each asset in the portfolio\n",
    "    - cov_matrix : a covariance matrix for the assets in the portfolio\n",
    "    - rf_return  : the risk-free return\n",
    "\n",
    "    Returns\n",
    "    -------\n",
    "    The function returns a pandas Series object, containing:\n",
    "    - w1..n: the optimal weights for each asset in the portfolio\n",
    "    - Return: the expected return of the portfolio\n",
    "    - Deviation: the expected standard deviation of the portfolio\n",
    "    - Sharpe Ratio: the Sharpe Ratio of the portfolio\n",
    "    \"\"\"    \n",
    "    # Constraints: weights must sum up to 1\n",
    "    cons = ({'type': 'eq', 'fun': lambda x: np.sum(x) - 1})\n",
    "\n",
    "    # Bounds on weights: each weight must be between 0 and 1\n",
    "    bnds = [(0, 1) for i in range(0, len(cov_matrix))]\n",
    "\n",
    "    # Initial guess of equal weights for each asset\n",
    "    init_guess = [1/len(cov_matrix) for i in range(0, len(cov_matrix))]\n",
    "\n",
    "    # Solve the optimization problem\n",
    "    opt_results = minimize(\n",
    "        lambda w: -sharpe_ratio(w, returns, cov_matrix, rf_return), \n",
    "        init_guess, \n",
    "        constraints=cons, \n",
    "        bounds=bnds)\n",
    "    weights = opt_results.x\n",
    "    p_return = portolio_return(weights, returns)\n",
    "    p_deviation = portfolio_variance(weights, cov_matrix)**0.5\n",
    "    sr = sharpe_ratio(weights, returns, cov_matrix, rf_return)\n",
    "    labels = np.append(['w' + str(i) for i in range(1, len(weights)+1)], \n",
    "        ['Return', 'Deviation', 'Sharpe Ratio'])\n",
    "    return pd.Series(np.append(weights, [p_return, p_deviation, sr]), index=labels)\n",
    "\n",
    "def find_gmv(returns, cov_matrix, rf_return):\n",
    "    # Constraints: weights must sum up to 1\n",
    "    cons = ({'type': 'eq', 'fun': lambda x: np.sum(x) - 1})\n",
    "\n",
    "    # Bounds on weights: each weight must be between 0 and 1\n",
    "    bnds = [(0, 1) for i in range(0, len(cov_matrix))]\n",
    "\n",
    "    # Initial guess of equal weights for each asset\n",
    "    init_guess = [1/len(cov_matrix) for i in range(0, len(cov_matrix))]\n",
    "\n",
    "    # Solve the optimization problem\n",
    "    opt_results = minimize(\n",
    "        lambda w: portfolio_variance(w, cov_matrix), \n",
    "        init_guess, \n",
    "        constraints=cons, \n",
    "        bounds=bnds\n",
    "        )\n",
    "    weights = opt_results.x\n",
    "    p_return = portolio_return(weights, returns)\n",
    "    p_deviation = portfolio_variance(weights, cov_matrix)**0.5\n",
    "    sr = sharpe_ratio(weights, returns, cov_matrix, rf_return)\n",
    "    labels = np.append(['w' + str(i) for i in range(1, len(weights)+1)], \n",
    "        ['Return', 'Deviation', 'Sharpe Ratio'])\n",
    "    return pd.Series(np.append(weights, [p_return, p_deviation, sr]), index=labels)"
   ]
  },
  {
   "attachments": {},
   "cell_type": "markdown",
   "metadata": {},
   "source": [
    "## Plot the minimum variance frontier"
   ]
  },
  {
   "attachments": {},
   "cell_type": "markdown",
   "metadata": {},
   "source": [
    "You are given the expected return, volatility and correlation matrix assumptions for seven asset classes:"
   ]
  },
  {
   "cell_type": "code",
   "execution_count": 41,
   "metadata": {},
   "outputs": [
    {
     "data": {
      "text/plain": [
       "array([[0.004624 , 0.0060928, 0.003757 , 0.00408  , 0.0023562, 0.0009248],\n",
       "       [0.0060928, 0.050176 , 0.0346528, 0.04032  , 0.0362208, 0.0030464],\n",
       "       [0.003757 , 0.0346528, 0.048841 , 0.049725 , 0.0306306, 0.0015028],\n",
       "       [0.00408  , 0.04032  , 0.049725 , 0.09     , 0.017325 , 0.00306  ],\n",
       "       [0.0023562, 0.0362208, 0.0306306, 0.017325 , 0.053361 , 0.0047124],\n",
       "       [0.0009248, 0.0030464, 0.0015028, 0.00306  , 0.0047124, 0.004624 ]])"
      ]
     },
     "execution_count": 41,
     "metadata": {},
     "output_type": "execute_result"
    }
   ],
   "source": [
    "assets_df = pd.DataFrame({\n",
    "  'Return': [0.04, 0.106, 0.083, 0.119, 0.128, 0.062],\n",
    "  'Deviation': [0.068, 0.224, 0.221, 0.3, 0.231, 0.068]\n",
    "}, index=['U.S. Bonds', 'U.S. Equity', 'Developed markets equity', 'Emerging markets equity', 'Private equity', 'Real Assets'])\n",
    "\n",
    "asset_cor = pd.DataFrame({\n",
    "  'U.S. Bonds': [1, 0.4, 0.25, 0.2, 0.15, 0.2],\n",
    "  'U.S. Equity': [0.4, 1, 0.7, 0.6, 0.7, 0.2],\n",
    "  'Developed markets equity': [0.25, 0.7, 1, 0.75, 0.6, 0.1],\n",
    "  'Emerging markets equity': [0.2, 0.6, 0.75, 1, 0.25, 0.15],\n",
    "  'Private equity': [0.15, 0.7, 0.6, 0.25, 1, 0.3],\n",
    "  'Real Assets': [0.2, 0.2, 0.1, 0.15, 0.3, 1],\n",
    "}, index=['U.S. Bonds', 'U.S. Equity', 'Developed markets equity', 'Emerging markets equity', 'Private equity', 'Real Assets'])\n",
    "\n",
    "# risk-free return\n",
    "rf_return = 0.03\n",
    "\n",
    "asset_cov = calc_cov(assets_df['Deviation'], asset_cor.to_numpy())\n",
    "asset_cov"
   ]
  },
  {
   "attachments": {},
   "cell_type": "markdown",
   "metadata": {},
   "source": [
    "Find the mean variance efficient portfolio (MVE)"
   ]
  },
  {
   "cell_type": "code",
   "execution_count": 46,
   "metadata": {},
   "outputs": [
    {
     "data": {
      "text/plain": [
       "w1              0.000\n",
       "w2              0.000\n",
       "w3              0.000\n",
       "w4              0.082\n",
       "w5              0.166\n",
       "w6              0.752\n",
       "Return          0.078\n",
       "Deviation       0.082\n",
       "Sharpe Ratio    0.581\n",
       "dtype: float64"
      ]
     },
     "execution_count": 46,
     "metadata": {},
     "output_type": "execute_result"
    }
   ],
   "source": [
    "mve = find_mve(assets_df['Return'], asset_cov, rf_return)\n",
    "np.round(mve, decimals=3)"
   ]
  },
  {
   "attachments": {},
   "cell_type": "markdown",
   "metadata": {},
   "source": [
    "Find the minimum variance portfolio (GMV)"
   ]
  },
  {
   "cell_type": "code",
   "execution_count": 48,
   "metadata": {},
   "outputs": [
    {
     "data": {
      "text/plain": [
       "w1              0.4951\n",
       "w2              0.0000\n",
       "w3              0.0002\n",
       "w4              0.0000\n",
       "w5              0.0000\n",
       "w6              0.5046\n",
       "Return          0.0511\n",
       "Deviation       0.0527\n",
       "Sharpe Ratio    0.4008\n",
       "dtype: float64"
      ]
     },
     "execution_count": 48,
     "metadata": {},
     "output_type": "execute_result"
    }
   ],
   "source": [
    "gmv = find_gmv(assets_df['Return'], asset_cov, rf_return)\n",
    "np.round(gmv, decimals=4)"
   ]
  },
  {
   "attachments": {},
   "cell_type": "markdown",
   "metadata": {},
   "source": [
    "Construct mean variance frontier"
   ]
  },
  {
   "cell_type": "code",
   "execution_count": 44,
   "metadata": {},
   "outputs": [
    {
     "data": {
      "text/html": [
       "<div>\n",
       "<style scoped>\n",
       "    .dataframe tbody tr th:only-of-type {\n",
       "        vertical-align: middle;\n",
       "    }\n",
       "\n",
       "    .dataframe tbody tr th {\n",
       "        vertical-align: top;\n",
       "    }\n",
       "\n",
       "    .dataframe thead th {\n",
       "        text-align: right;\n",
       "    }\n",
       "</style>\n",
       "<table border=\"1\" class=\"dataframe\">\n",
       "  <thead>\n",
       "    <tr style=\"text-align: right;\">\n",
       "      <th></th>\n",
       "      <th>gmv_w</th>\n",
       "      <th>mve_w</th>\n",
       "      <th>Return</th>\n",
       "      <th>Deviation</th>\n",
       "    </tr>\n",
       "  </thead>\n",
       "  <tbody>\n",
       "    <tr>\n",
       "      <th>28</th>\n",
       "      <td>1.7</td>\n",
       "      <td>-0.7</td>\n",
       "      <td>0.032558</td>\n",
       "      <td>0.064888</td>\n",
       "    </tr>\n",
       "    <tr>\n",
       "      <th>29</th>\n",
       "      <td>1.8</td>\n",
       "      <td>-0.8</td>\n",
       "      <td>0.029907</td>\n",
       "      <td>0.068538</td>\n",
       "    </tr>\n",
       "    <tr>\n",
       "      <th>30</th>\n",
       "      <td>1.9</td>\n",
       "      <td>-0.9</td>\n",
       "      <td>0.027257</td>\n",
       "      <td>0.072491</td>\n",
       "    </tr>\n",
       "    <tr>\n",
       "      <th>31</th>\n",
       "      <td>2.0</td>\n",
       "      <td>-1.0</td>\n",
       "      <td>0.024606</td>\n",
       "      <td>0.076700</td>\n",
       "    </tr>\n",
       "    <tr>\n",
       "      <th>32</th>\n",
       "      <td>2.1</td>\n",
       "      <td>-1.1</td>\n",
       "      <td>0.021956</td>\n",
       "      <td>0.081125</td>\n",
       "    </tr>\n",
       "  </tbody>\n",
       "</table>\n",
       "</div>"
      ],
      "text/plain": [
       "    gmv_w  mve_w    Return  Deviation\n",
       "28    1.7   -0.7  0.032558   0.064888\n",
       "29    1.8   -0.8  0.029907   0.068538\n",
       "30    1.9   -0.9  0.027257   0.072491\n",
       "31    2.0   -1.0  0.024606   0.076700\n",
       "32    2.1   -1.1  0.021956   0.081125"
      ]
     },
     "execution_count": 44,
     "metadata": {},
     "output_type": "execute_result"
    }
   ],
   "source": [
    "# calculate correlation of gmv and mve\n",
    "gmv_mve_cor = np.dot(gmv[:-3], np.dot(mve[:-3], asset_cov))\n",
    "mvf_cov = np.array([\n",
    "  [gmv['Deviation']**2, gmv_mve_cor],\n",
    "  [gmv_mve_cor, mve['Deviation']**2],\n",
    "])\n",
    "\n",
    "mvf = pd.DataFrame({ 'gmv_w': np.arange(-1.1, 2.2, step=0.1) })\n",
    "mvf['mve_w'] = 1 - mvf['gmv_w']\n",
    "weights = mvf[['gmv_w', 'mve_w']].values\n",
    "mvf['Return'] = np.dot(mvf[['gmv_w', 'mve_w']], [gmv['Return'], mve['Return']])\n",
    "mvf['Deviation'] = np.sqrt(np.sum(np.dot(weights, mvf_cov) * weights, axis=1))\n",
    "mvf.tail()"
   ]
  },
  {
   "attachments": {},
   "cell_type": "markdown",
   "metadata": {},
   "source": [
    "Plot the mean variance frontier"
   ]
  },
  {
   "cell_type": "code",
   "execution_count": 53,
   "metadata": {},
   "outputs": [
    {
     "data": {
      "image/png": "[encoded data removed]",
      "text/plain": [
       "<Figure size 1000x600 with 1 Axes>"
      ]
     },
     "metadata": {},
     "output_type": "display_data"
    }
   ],
   "source": [
    "# Create the plot\n",
    "fig, ax = plt.subplots(figsize=(10,6))\n",
    "\n",
    "# plot mean variance frontier\n",
    "ax.plot(mvf['Deviation'], mvf['Return'])\n",
    "\n",
    "# plot mean-variance efficient portfolio\n",
    "ax.scatter(mve['Deviation'], mve['Return'], color='orange')\n",
    "ax.text(mve['Deviation']-0.005, mve['Return']+0.0001, 'MVE', fontsize=12)\n",
    "\n",
    "# plot global minimum variance portfolio\n",
    "ax.scatter(gmv['Deviation'], gmv['Return'], color='orange')\n",
    "ax.text(gmv['Deviation']+0.0008, gmv['Return']+0.0001, 'GMV', fontsize=12)\n",
    "\n",
    "# add title and x/y-axis labels\n",
    "plt.title('Mean-variance frontier of 6 assets')\n",
    "plt.xlabel('Standard deviation')\n",
    "plt.ylabel('Expected return')\n",
    "\n",
    "# Set the limits of axes\n",
    "plt.ylim(mvf['Return'].min() - 0.001, mvf['Return'].max()+0.001)\n",
    "plt.xlim(mvf['Deviation'].min() - 0.001, mvf['Deviation'].max()+0.001)\n",
    "\n",
    "# Show the graph\n",
    "plt.show()"
   ]
  },
  {
   "attachments": {},
   "cell_type": "markdown",
   "metadata": {},
   "source": [
    "## Find the capital allocation"
   ]
  },
  {
   "cell_type": "markdown",
   "metadata": {},
   "source": [
    "Suppose you are advising a client whose risk aversion coefficient is 4. What allocation would you suggest to her?"
   ]
  },
  {
   "cell_type": "code",
   "execution_count": 58,
   "metadata": {},
   "outputs": [
    {
     "name": "stdout",
     "output_type": "stream",
     "text": [
      "You should invest 177% of your wealth in the MVE portfolio.\n"
     ]
    }
   ],
   "source": [
    "w = (mve['Return'] - rf_return) / (4 * mve['Deviation']**2)\n",
    "print(f'You should invest {w*100:.0f}% of your wealth in the MVE portfolio.')"
   ]
  },
  {
   "attachments": {},
   "cell_type": "markdown",
   "metadata": {},
   "source": [
    "The optimal capital allocation for an investor with a risk aversion coefficient of $A$ is given by:\n",
    "\n",
    "$$\n",
    "w = \\frac{E(r_{mve}) - r_f}{A\\sigma_{mve}^2}\n",
    "$$\n",
    "\n",
    "Plugging in the values \n",
    "\n",
    "$$\n",
    "w = \\frac{0.0776 - 0.03}{4 \\times 0.0819^2} = 1.7736\n",
    "$$\n",
    "\n",
    "This suggests that she should invest 177% of her wealth in the MVE portfolio by borrowing 77%."
   ]
  }
 ],
 "metadata": {
  "kernelspec": {
   "display_name": ".venv",
   "language": "python",
   "name": "python3"
  },
  "language_info": {
   "codemirror_mode": {
    "name": "ipython",
    "version": 3
   },
   "file_extension": ".py",
   "mimetype": "text/x-python",
   "name": "python",
   "nbconvert_exporter": "python",
   "pygments_lexer": "ipython3",
   "version": "3.8.9"
  },
  "orig_nbformat": 4
 },
 "nbformat": 4,
 "nbformat_minor": 2
}
