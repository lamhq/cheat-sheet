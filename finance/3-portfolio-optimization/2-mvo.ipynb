{
 "cells": [
  {
   "attachments": {},
   "cell_type": "markdown",
   "metadata": {},
   "source": [
    "# Mean-variance optimization"
   ]
  },
  {
   "cell_type": "code",
   "execution_count": 1,
   "metadata": {},
   "outputs": [],
   "source": [
    "from typing import List\n",
    "import pandas as pd\n",
    "import numpy as np\n",
    "import matplotlib.pyplot as plt\n",
    "from scipy.optimize import minimize\n",
    "\n",
    "def calc_cov(deviations: np.ndarray, cor: np.ndarray) -> np.ndarray:\n",
    "    \"\"\"\n",
    "    This function calculates the covariance matrix based on a given correlation matrix and array of standard deviations.\n",
    "\n",
    "    Args:\n",
    "    - deviations (np.ndarray): 1D array of standard deviations for each variable.\n",
    "    - cor (np.ndarray): 2D correlation matrix.\n",
    "\n",
    "    Returns:\n",
    "    - 2D covariance matrix calculated from the input arrays.\n",
    "    \"\"\"\n",
    "    # Calculate the outer product of the standard deviations to get a matrix of variances\n",
    "    variances = np.outer(deviations, deviations)\n",
    "    \n",
    "    # Calculate the covariance matrix by element-wise multiplication of the correlation matrix with the variance matrix\n",
    "    return cor * variances\n",
    "\n",
    "def portolio_return(weights, returns):\n",
    "    return np.dot(weights, returns)\n",
    "\n",
    "def portfolio_variance(weights, cov_matrix):\n",
    "    port_variance = np.dot(np.dot(weights, cov_matrix), weights.T)\n",
    "    return port_variance\n",
    "\n",
    "def sharpe_ratio(weights, returns, cov_matrix, rf_return):\n",
    "    return (portolio_return(weights, returns) - rf_return) / \\\n",
    "        (portfolio_variance(weights, cov_matrix)**0.5)\n",
    "\n",
    "def find_mve(returns, cov_matrix, rf_return):\n",
    "    \"\"\"\n",
    "    This is a function to find the weights of a Mean-variance Efficient Portfolio (MVE) that maximizes the Sharpe Ratio.\n",
    "\n",
    "    Parameters\n",
    "    ----------\n",
    "    - returns:   : an array of expected returns for each asset in the portfolio\n",
    "    - cov_matrix : a covariance matrix for the assets in the portfolio\n",
    "    - rf_return  : the risk-free return\n",
    "\n",
    "    Returns\n",
    "    -------\n",
    "    The function returns a pandas Series object, containing:\n",
    "    - w1..n: the optimal weights for each asset in the portfolio\n",
    "    - Return: the expected return of the portfolio\n",
    "    - Deviation: the expected standard deviation of the portfolio\n",
    "    - Sharpe Ratio: the Sharpe Ratio of the portfolio\n",
    "    \"\"\"    \n",
    "    # Constraints: weights must sum up to 1\n",
    "    cons = ({'type': 'eq', 'fun': lambda x: np.sum(x) - 1})\n",
    "\n",
    "    # Bounds on weights: each weight must be between 0 and 1\n",
    "    bnds = [(0, 1) for i in range(0, len(cov_matrix))]\n",
    "\n",
    "    # Initial guess of equal weights for each asset\n",
    "    init_guess = [1/len(cov_matrix) for i in range(0, len(cov_matrix))]\n",
    "\n",
    "    # Solve the optimization problem\n",
    "    opt_results = minimize(\n",
    "        lambda w: -sharpe_ratio(w, returns, cov_matrix, rf_return), \n",
    "        init_guess, \n",
    "        constraints=cons, \n",
    "        bounds=bnds)\n",
    "    weights = np.round(opt_results.x, decimals=3)\n",
    "    p_return = portolio_return(weights, returns)\n",
    "    p_deviation = portfolio_variance(weights, cov_matrix)**0.5\n",
    "    sr = sharpe_ratio(weights, returns, cov_matrix, rf_return)\n",
    "    labels = np.append(['w' + str(i) for i in range(1, len(weights)+1)], \n",
    "        ['Return', 'Deviation', 'Sharpe Ratio'])\n",
    "    return pd.Series(np.append(weights, [p_return, p_deviation, sr]), index=labels)\n",
    "\n",
    "def find_gmv(returns, cov_matrix, rf_return):\n",
    "    # Constraints: weights must sum up to 1\n",
    "    cons = ({'type': 'eq', 'fun': lambda x: np.sum(x) - 1})\n",
    "\n",
    "    # Bounds on weights: each weight must be between 0 and 1\n",
    "    bnds = [(0, 1) for i in range(0, len(cov_matrix))]\n",
    "\n",
    "    # Initial guess of equal weights for each asset\n",
    "    init_guess = [1/len(cov_matrix) for i in range(0, len(cov_matrix))]\n",
    "\n",
    "    # Solve the optimization problem\n",
    "    opt_results = minimize(\n",
    "        lambda w: portfolio_variance(w, cov_matrix), \n",
    "        init_guess, \n",
    "        constraints=cons, \n",
    "        # if you do not allow short selling, uncomment below code\n",
    "        # bounds=bnds\n",
    "        )\n",
    "    weights = np.round(opt_results.x, decimals=3)\n",
    "    p_return = portolio_return(weights, returns)\n",
    "    p_deviation = portfolio_variance(weights, cov_matrix)**0.5\n",
    "    sr = sharpe_ratio(weights, returns, cov_matrix, rf_return)\n",
    "    labels = np.append(['w' + str(i) for i in range(1, len(weights)+1)], \n",
    "        ['Return', 'Deviation', 'Sharpe Ratio'])\n",
    "    return pd.Series(np.append(weights, [p_return, p_deviation, sr]), index=labels)"
   ]
  },
  {
   "attachments": {},
   "cell_type": "markdown",
   "metadata": {},
   "source": [
    "## Mean-variance efficient portfolio (two assets)"
   ]
  },
  {
   "attachments": {},
   "cell_type": "markdown",
   "metadata": {},
   "source": [
    "Define two risky assets and return of risk-free asset:"
   ]
  },
  {
   "cell_type": "code",
   "execution_count": 2,
   "metadata": {},
   "outputs": [
    {
     "data": {
      "text/plain": [
       "array([[0.02356225, 0.00939355],\n",
       "       [0.00939355, 0.05280804]])"
      ]
     },
     "execution_count": 2,
     "metadata": {},
     "output_type": "execute_result"
    }
   ],
   "source": [
    "assets_df = pd.DataFrame({\n",
    "  'Return': [0.1355, 0.1497],\n",
    "  'Deviation': [0.1535, 0.2298]\n",
    "}, index=['US', 'Japan'])\n",
    "asset_cor = pd.DataFrame({\n",
    "  'US': [1, 0.2663],\n",
    "  'Japan': [0.2663, 1],\n",
    "}, index=['US',  'Japan'])\n",
    "rf_return = 0.05\n",
    "asset_cov = calc_cov(assets_df['Deviation'], asset_cor.to_numpy())\n",
    "asset_cov"
   ]
  },
  {
   "cell_type": "markdown",
   "metadata": {},
   "source": [
    "Find the mean-variance efficient portfolio"
   ]
  },
  {
   "cell_type": "code",
   "execution_count": 77,
   "metadata": {},
   "outputs": [
    {
     "data": {
      "text/plain": [
       "w1              0.698000\n",
       "w2              0.302000\n",
       "Return          0.139788\n",
       "Deviation       0.142324\n",
       "Sharpe Ratio    0.630872\n",
       "dtype: float64"
      ]
     },
     "execution_count": 77,
     "metadata": {},
     "output_type": "execute_result"
    }
   ],
   "source": [
    "mve = find_mve(assets_df['Return'], asset_cov, rf_return)\n",
    "mve"
   ]
  },
  {
   "attachments": {},
   "cell_type": "markdown",
   "metadata": {},
   "source": [
    "Construct capital allocation line"
   ]
  },
  {
   "cell_type": "code",
   "execution_count": 78,
   "metadata": {},
   "outputs": [
    {
     "data": {
      "text/html": [
       "<div>\n",
       "<style scoped>\n",
       "    .dataframe tbody tr th:only-of-type {\n",
       "        vertical-align: middle;\n",
       "    }\n",
       "\n",
       "    .dataframe tbody tr th {\n",
       "        vertical-align: top;\n",
       "    }\n",
       "\n",
       "    .dataframe thead th {\n",
       "        text-align: right;\n",
       "    }\n",
       "</style>\n",
       "<table border=\"1\" class=\"dataframe\">\n",
       "  <thead>\n",
       "    <tr style=\"text-align: right;\">\n",
       "      <th></th>\n",
       "      <th>w_mve</th>\n",
       "      <th>w_rf</th>\n",
       "      <th>Return</th>\n",
       "      <th>Deviation</th>\n",
       "      <th>Sharpe ratio</th>\n",
       "    </tr>\n",
       "  </thead>\n",
       "  <tbody>\n",
       "    <tr>\n",
       "      <th>0</th>\n",
       "      <td>0.0</td>\n",
       "      <td>1.0</td>\n",
       "      <td>0.050000</td>\n",
       "      <td>0.000000</td>\n",
       "      <td>NaN</td>\n",
       "    </tr>\n",
       "    <tr>\n",
       "      <th>1</th>\n",
       "      <td>0.1</td>\n",
       "      <td>0.9</td>\n",
       "      <td>0.058979</td>\n",
       "      <td>0.014232</td>\n",
       "      <td>0.630872</td>\n",
       "    </tr>\n",
       "    <tr>\n",
       "      <th>2</th>\n",
       "      <td>0.2</td>\n",
       "      <td>0.8</td>\n",
       "      <td>0.067958</td>\n",
       "      <td>0.028465</td>\n",
       "      <td>0.630872</td>\n",
       "    </tr>\n",
       "    <tr>\n",
       "      <th>3</th>\n",
       "      <td>0.3</td>\n",
       "      <td>0.7</td>\n",
       "      <td>0.076937</td>\n",
       "      <td>0.042697</td>\n",
       "      <td>0.630872</td>\n",
       "    </tr>\n",
       "    <tr>\n",
       "      <th>4</th>\n",
       "      <td>0.4</td>\n",
       "      <td>0.6</td>\n",
       "      <td>0.085915</td>\n",
       "      <td>0.056930</td>\n",
       "      <td>0.630872</td>\n",
       "    </tr>\n",
       "  </tbody>\n",
       "</table>\n",
       "</div>"
      ],
      "text/plain": [
       "   w_mve  w_rf    Return  Deviation  Sharpe ratio\n",
       "0    0.0   1.0  0.050000   0.000000           NaN\n",
       "1    0.1   0.9  0.058979   0.014232      0.630872\n",
       "2    0.2   0.8  0.067958   0.028465      0.630872\n",
       "3    0.3   0.7  0.076937   0.042697      0.630872\n",
       "4    0.4   0.6  0.085915   0.056930      0.630872"
      ]
     },
     "execution_count": 78,
     "metadata": {},
     "output_type": "execute_result"
    }
   ],
   "source": [
    "cal_df = pd.DataFrame({ 'w_mve': np.arange(0, 1.8, step=0.1) })\n",
    "cal_df['w_rf'] = 1 - cal_df['w_mve']\n",
    "cal_df['Return'] = np.dot(cal_df[['w_mve', 'w_rf']], [mve['Return'], rf_return])\n",
    "cal_df['Deviation'] = cal_df['w_mve'] * mve['Deviation']\n",
    "cal_df['Sharpe ratio'] = (cal_df['Return'] - rf_return)/cal_df['Deviation']\n",
    "cal_df.head()"
   ]
  },
  {
   "attachments": {},
   "cell_type": "markdown",
   "metadata": {},
   "source": [
    "Construct mean variance frontier"
   ]
  },
  {
   "cell_type": "code",
   "execution_count": 79,
   "metadata": {},
   "outputs": [
    {
     "data": {
      "text/html": [
       "<div>\n",
       "<style scoped>\n",
       "    .dataframe tbody tr th:only-of-type {\n",
       "        vertical-align: middle;\n",
       "    }\n",
       "\n",
       "    .dataframe tbody tr th {\n",
       "        vertical-align: top;\n",
       "    }\n",
       "\n",
       "    .dataframe thead th {\n",
       "        text-align: right;\n",
       "    }\n",
       "</style>\n",
       "<table border=\"1\" class=\"dataframe\">\n",
       "  <thead>\n",
       "    <tr style=\"text-align: right;\">\n",
       "      <th></th>\n",
       "      <th>w_us</th>\n",
       "      <th>w_jp</th>\n",
       "      <th>Return</th>\n",
       "      <th>Deviation</th>\n",
       "    </tr>\n",
       "  </thead>\n",
       "  <tbody>\n",
       "    <tr>\n",
       "      <th>0</th>\n",
       "      <td>0.00</td>\n",
       "      <td>1.00</td>\n",
       "      <td>0.149700</td>\n",
       "      <td>0.229800</td>\n",
       "    </tr>\n",
       "    <tr>\n",
       "      <th>1</th>\n",
       "      <td>0.01</td>\n",
       "      <td>0.99</td>\n",
       "      <td>0.149558</td>\n",
       "      <td>0.227916</td>\n",
       "    </tr>\n",
       "    <tr>\n",
       "      <th>2</th>\n",
       "      <td>0.02</td>\n",
       "      <td>0.98</td>\n",
       "      <td>0.149416</td>\n",
       "      <td>0.226041</td>\n",
       "    </tr>\n",
       "    <tr>\n",
       "      <th>3</th>\n",
       "      <td>0.03</td>\n",
       "      <td>0.97</td>\n",
       "      <td>0.149274</td>\n",
       "      <td>0.224176</td>\n",
       "    </tr>\n",
       "    <tr>\n",
       "      <th>4</th>\n",
       "      <td>0.04</td>\n",
       "      <td>0.96</td>\n",
       "      <td>0.149132</td>\n",
       "      <td>0.222322</td>\n",
       "    </tr>\n",
       "  </tbody>\n",
       "</table>\n",
       "</div>"
      ],
      "text/plain": [
       "   w_us  w_jp    Return  Deviation\n",
       "0  0.00  1.00  0.149700   0.229800\n",
       "1  0.01  0.99  0.149558   0.227916\n",
       "2  0.02  0.98  0.149416   0.226041\n",
       "3  0.03  0.97  0.149274   0.224176\n",
       "4  0.04  0.96  0.149132   0.222322"
      ]
     },
     "execution_count": 79,
     "metadata": {},
     "output_type": "execute_result"
    }
   ],
   "source": [
    "ef_df = pd.DataFrame({ 'w_us': np.arange(0, 1.1, step=0.01) })\n",
    "ef_df['w_jp'] = 1 - ef_df['w_us']\n",
    "weights = ef_df[['w_us', 'w_jp']].values\n",
    "ef_df['Return'] = np.dot(weights, assets_df['Return'])\n",
    "ef_df['Deviation'] = np.sqrt(np.sum(np.dot(weights, asset_cov) * weights, axis=1))\n",
    "ef_df.head()"
   ]
  },
  {
   "cell_type": "markdown",
   "metadata": {},
   "source": [
    "Plot the data"
   ]
  },
  {
   "cell_type": "code",
   "execution_count": 80,
   "metadata": {},
   "outputs": [
    {
     "data": {
      "image/png": "[encoded data removed]",
      "text/plain": [
       "<Figure size 1000x600 with 1 Axes>"
      ]
     },
     "metadata": {},
     "output_type": "display_data"
    }
   ],
   "source": [
    "# Create the plot\n",
    "fig, ax = plt.subplots(figsize=(10,6))\n",
    "\n",
    "# plot capital allocation line\n",
    "ax.plot(cal_df['Deviation'], cal_df['Return'])\n",
    "\n",
    "# plot efficient frontier\n",
    "ax.plot(ef_df['Deviation'], ef_df['Return'])\n",
    "\n",
    "# plot mearn-variance efficient portfolio\n",
    "ax.scatter(mve['Deviation'], mve['Return'], color='orange')\n",
    "ax.text(mve['Deviation']-0.007, mve['Return']+0.0001, 'MVE', fontsize=12)\n",
    "\n",
    "# add title and x/y-axis labels\n",
    "plt.title('Mean-variance frontier and CAL with US and Japan only')\n",
    "plt.xlabel('Volatility')\n",
    "plt.ylabel('Expected return')\n",
    "\n",
    "# Set the limits of axes\n",
    "plt.ylim(ef_df['Return'].min() - 0.001, ef_df['Return'].max()+0.001)\n",
    "plt.xlim(ef_df['Deviation'].min() - 0.01, ef_df['Deviation'].max()+0.001)\n",
    "\n",
    "# Show the graph\n",
    "plt.show()"
   ]
  },
  {
   "attachments": {},
   "cell_type": "markdown",
   "metadata": {},
   "source": [
    "## Mean variance frontier of multiple assets"
   ]
  },
  {
   "cell_type": "code",
   "execution_count": 4,
   "metadata": {},
   "outputs": [
    {
     "data": {
      "text/plain": [
       "array([[0.02356225, 0.01866144, 0.01568916, 0.01151538, 0.00939355],\n",
       "       [0.01866144, 0.059049  , 0.03060847, 0.02112173, 0.01999681],\n",
       "       [0.01568916, 0.03060847, 0.05400976, 0.02856943, 0.02095099],\n",
       "       [0.01151538, 0.02112173, 0.02856943, 0.04153444, 0.01715502],\n",
       "       [0.00939355, 0.01999681, 0.02095099, 0.01715502, 0.05280804]])"
      ]
     },
     "execution_count": 4,
     "metadata": {},
     "output_type": "execute_result"
    }
   ],
   "source": [
    "assets_df = pd.DataFrame({\n",
    "  'Return': [0.1355, 0.1589, 0.1519, 0.1435, 0.1497],\n",
    "  'Deviation': [0.1535, 0.2430, 0.2324, 0.2038, 0.2298]\n",
    "}, index=['US', 'UK', 'France', 'Germany', 'Japan'])\n",
    "asset_cor = pd.DataFrame({\n",
    "  'US': [1.0000, 0.5003, 0.4398, 0.3681, 0.2663],\n",
    "  'UK': [0.5003, 1.0000, 0.5420, 0.4265, 0.3581],\n",
    "  'France': [0.4398, 0.5420, 1.0000, 0.6032, 0.3923],\n",
    "  'Germany': [0.3681, 0.4265, 0.6032, 1.0000, 0.3663],\n",
    "  'Japan': [0.2663, 0.3581, 0.3923, 0.3663, 1.0000],\n",
    "}, index=['US', 'UK', 'France', 'Germany', 'Japan'])\n",
    "rf_return = 0.05\n",
    "asset_cov = calc_cov(assets_df['Deviation'], asset_cor.to_numpy())\n",
    "asset_cov"
   ]
  },
  {
   "attachments": {},
   "cell_type": "markdown",
   "metadata": {},
   "source": [
    "Find the mean variance efficient portfolio (MVE)"
   ]
  },
  {
   "cell_type": "code",
   "execution_count": 82,
   "metadata": {},
   "outputs": [
    {
     "data": {
      "text/plain": [
       "w1              0.507000\n",
       "w2              0.075000\n",
       "w3              0.025000\n",
       "w4              0.189000\n",
       "w5              0.204000\n",
       "Return          0.142074\n",
       "Deviation       0.138574\n",
       "Sharpe Ratio    0.664437\n",
       "dtype: float64"
      ]
     },
     "execution_count": 82,
     "metadata": {},
     "output_type": "execute_result"
    }
   ],
   "source": [
    "mve = find_mve(assets_df['Return'], asset_cov, rf_return)\n",
    "mve"
   ]
  },
  {
   "attachments": {},
   "cell_type": "markdown",
   "metadata": {},
   "source": [
    "Find the minimum variance portfolio (GMV)"
   ]
  },
  {
   "cell_type": "code",
   "execution_count": 83,
   "metadata": {},
   "outputs": [
    {
     "data": {
      "text/plain": [
       "w1              0.631000\n",
       "w2             -0.013000\n",
       "w3             -0.022000\n",
       "w4              0.225000\n",
       "w5              0.179000\n",
       "Return          0.139177\n",
       "Deviation       0.136372\n",
       "Sharpe Ratio    0.653924\n",
       "dtype: float64"
      ]
     },
     "execution_count": 83,
     "metadata": {},
     "output_type": "execute_result"
    }
   ],
   "source": [
    "gmv = find_gmv(assets_df['Return'], asset_cov, rf_return)\n",
    "gmv"
   ]
  },
  {
   "attachments": {},
   "cell_type": "markdown",
   "metadata": {},
   "source": [
    "Construct mean variance frontier"
   ]
  },
  {
   "cell_type": "code",
   "execution_count": 89,
   "metadata": {},
   "outputs": [
    {
     "data": {
      "text/html": [
       "<div>\n",
       "<style scoped>\n",
       "    .dataframe tbody tr th:only-of-type {\n",
       "        vertical-align: middle;\n",
       "    }\n",
       "\n",
       "    .dataframe tbody tr th {\n",
       "        vertical-align: top;\n",
       "    }\n",
       "\n",
       "    .dataframe thead th {\n",
       "        text-align: right;\n",
       "    }\n",
       "</style>\n",
       "<table border=\"1\" class=\"dataframe\">\n",
       "  <thead>\n",
       "    <tr style=\"text-align: right;\">\n",
       "      <th></th>\n",
       "      <th>gmv_w</th>\n",
       "      <th>mve_w</th>\n",
       "      <th>Return</th>\n",
       "      <th>Deviation</th>\n",
       "    </tr>\n",
       "  </thead>\n",
       "  <tbody>\n",
       "    <tr>\n",
       "      <th>28</th>\n",
       "      <td>1.7</td>\n",
       "      <td>-0.7</td>\n",
       "      <td>0.137149</td>\n",
       "      <td>0.137471</td>\n",
       "    </tr>\n",
       "    <tr>\n",
       "      <th>29</th>\n",
       "      <td>1.8</td>\n",
       "      <td>-0.8</td>\n",
       "      <td>0.136859</td>\n",
       "      <td>0.137804</td>\n",
       "    </tr>\n",
       "    <tr>\n",
       "      <th>30</th>\n",
       "      <td>1.9</td>\n",
       "      <td>-0.9</td>\n",
       "      <td>0.136569</td>\n",
       "      <td>0.138181</td>\n",
       "    </tr>\n",
       "    <tr>\n",
       "      <th>31</th>\n",
       "      <td>2.0</td>\n",
       "      <td>-1.0</td>\n",
       "      <td>0.136280</td>\n",
       "      <td>0.138601</td>\n",
       "    </tr>\n",
       "    <tr>\n",
       "      <th>32</th>\n",
       "      <td>2.1</td>\n",
       "      <td>-1.1</td>\n",
       "      <td>0.135990</td>\n",
       "      <td>0.139063</td>\n",
       "    </tr>\n",
       "  </tbody>\n",
       "</table>\n",
       "</div>"
      ],
      "text/plain": [
       "    gmv_w  mve_w    Return  Deviation\n",
       "28    1.7   -0.7  0.137149   0.137471\n",
       "29    1.8   -0.8  0.136859   0.137804\n",
       "30    1.9   -0.9  0.136569   0.138181\n",
       "31    2.0   -1.0  0.136280   0.138601\n",
       "32    2.1   -1.1  0.135990   0.139063"
      ]
     },
     "execution_count": 89,
     "metadata": {},
     "output_type": "execute_result"
    }
   ],
   "source": [
    "# calculate correlation of gmv and mve\n",
    "gmv_mve_cor = np.dot(gmv[:-3], np.dot(mve[:-3], asset_cov))\n",
    "mvf_cov = np.array([\n",
    "  [gmv['Deviation']**2, gmv_mve_cor],\n",
    "  [gmv_mve_cor, mve['Deviation']**2],\n",
    "])\n",
    "\n",
    "mvf = pd.DataFrame({ 'gmv_w': np.arange(-1.1, 2.2, step=0.1) })\n",
    "mvf['mve_w'] = 1 - mvf['gmv_w']\n",
    "weights = mvf[['gmv_w', 'mve_w']].values\n",
    "mvf['Return'] = np.dot(mvf[['gmv_w', 'mve_w']], [gmv['Return'], mve['Return']])\n",
    "mvf['Deviation'] = np.sqrt(np.sum(np.dot(weights, mvf_cov) * weights, axis=1))\n",
    "mvf.tail()"
   ]
  },
  {
   "attachments": {},
   "cell_type": "markdown",
   "metadata": {},
   "source": [
    "Plot the mean variance frontier"
   ]
  },
  {
   "cell_type": "code",
   "execution_count": 103,
   "metadata": {},
   "outputs": [
    {
     "data": {
      "image/png": "[encoded data removed]",
      "text/plain": [
       "<Figure size 1000x600 with 1 Axes>"
      ]
     },
     "metadata": {},
     "output_type": "display_data"
    }
   ],
   "source": [
    "# Create the plot\n",
    "fig, ax = plt.subplots(figsize=(10,6))\n",
    "\n",
    "# plot mean variance frontier\n",
    "ax.plot(mvf['Deviation'], mvf['Return'])\n",
    "\n",
    "# plot mean-variance efficient portfolio\n",
    "ax.scatter(mve['Deviation'], mve['Return'], color='orange')\n",
    "ax.text(mve['Deviation']-0.0008, mve['Return']+0.0001, 'MVE', fontsize=12)\n",
    "\n",
    "# plot global minimum variance portfolio\n",
    "ax.scatter(gmv['Deviation'], gmv['Return'], color='orange')\n",
    "ax.text(gmv['Deviation']-0.0008, gmv['Return']+0.0001, 'GMV', fontsize=12)\n",
    "\n",
    "# add title and x/y-axis labels\n",
    "plt.title('Mean-variance frontier of 5 assets')\n",
    "plt.xlabel('Standard deviation')\n",
    "plt.ylabel('Expected return')\n",
    "\n",
    "# Set the limits of axes\n",
    "plt.ylim(mvf['Return'].min() - 0.001, mvf['Return'].max()+0.001)\n",
    "plt.xlim(mvf['Deviation'].min() - 0.001, mvf['Deviation'].max()+0.001)\n",
    "\n",
    "# Show the graph\n",
    "plt.show()"
   ]
  }
 ],
 "metadata": {
  "kernelspec": {
   "display_name": ".venv",
   "language": "python",
   "name": "python3"
  },
  "language_info": {
   "codemirror_mode": {
    "name": "ipython",
    "version": 3
   },
   "file_extension": ".py",
   "mimetype": "text/x-python",
   "name": "python",
   "nbconvert_exporter": "python",
   "pygments_lexer": "ipython3",
   "version": "3.8.9"
  },
  "orig_nbformat": 4
 },
 "nbformat": 4,
 "nbformat_minor": 2
}
