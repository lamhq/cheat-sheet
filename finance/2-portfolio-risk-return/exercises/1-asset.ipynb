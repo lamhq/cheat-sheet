{
 "cells": [
  {
   "attachments": {},
   "cell_type": "markdown",
   "metadata": {},
   "source": [
    "# Risk & Return Exercise"
   ]
  },
  {
   "cell_type": "code",
   "execution_count": 55,
   "metadata": {},
   "outputs": [],
   "source": [
    "import pandas as pd"
   ]
  },
  {
   "cell_type": "code",
   "execution_count": 56,
   "metadata": {},
   "outputs": [
    {
     "data": {
      "text/html": [
       "<div>\n",
       "<style scoped>\n",
       "    .dataframe tbody tr th:only-of-type {\n",
       "        vertical-align: middle;\n",
       "    }\n",
       "\n",
       "    .dataframe tbody tr th {\n",
       "        vertical-align: top;\n",
       "    }\n",
       "\n",
       "    .dataframe thead th {\n",
       "        text-align: right;\n",
       "    }\n",
       "</style>\n",
       "<table border=\"1\" class=\"dataframe\">\n",
       "  <thead>\n",
       "    <tr style=\"text-align: right;\">\n",
       "      <th></th>\n",
       "      <th>S&amp;P 500</th>\n",
       "      <th>MSFT</th>\n",
       "      <th>WBA</th>\n",
       "      <th>TSLA</th>\n",
       "    </tr>\n",
       "    <tr>\n",
       "      <th>Date</th>\n",
       "      <th></th>\n",
       "      <th></th>\n",
       "      <th></th>\n",
       "      <th></th>\n",
       "    </tr>\n",
       "  </thead>\n",
       "  <tbody>\n",
       "    <tr>\n",
       "      <th>2010-12-01</th>\n",
       "      <td>1257.640015</td>\n",
       "      <td>23.976345</td>\n",
       "      <td>34.562576</td>\n",
       "      <td>26.629999</td>\n",
       "    </tr>\n",
       "    <tr>\n",
       "      <th>2011-01-03</th>\n",
       "      <td>1286.119995</td>\n",
       "      <td>23.821714</td>\n",
       "      <td>35.875526</td>\n",
       "      <td>24.100000</td>\n",
       "    </tr>\n",
       "    <tr>\n",
       "      <th>2011-02-01</th>\n",
       "      <td>1327.219971</td>\n",
       "      <td>22.968760</td>\n",
       "      <td>38.607777</td>\n",
       "      <td>23.889999</td>\n",
       "    </tr>\n",
       "    <tr>\n",
       "      <th>2011-03-01</th>\n",
       "      <td>1325.829956</td>\n",
       "      <td>21.940435</td>\n",
       "      <td>35.757179</td>\n",
       "      <td>27.750000</td>\n",
       "    </tr>\n",
       "    <tr>\n",
       "      <th>2011-04-01</th>\n",
       "      <td>1363.609985</td>\n",
       "      <td>22.398430</td>\n",
       "      <td>38.055477</td>\n",
       "      <td>27.600000</td>\n",
       "    </tr>\n",
       "  </tbody>\n",
       "</table>\n",
       "</div>"
      ],
      "text/plain": [
       "                S&P 500       MSFT        WBA       TSLA\n",
       "Date                                                    \n",
       "2010-12-01  1257.640015  23.976345  34.562576  26.629999\n",
       "2011-01-03  1286.119995  23.821714  35.875526  24.100000\n",
       "2011-02-01  1327.219971  22.968760  38.607777  23.889999\n",
       "2011-03-01  1325.829956  21.940435  35.757179  27.750000\n",
       "2011-04-01  1363.609985  22.398430  38.055477  27.600000"
      ]
     },
     "execution_count": 56,
     "metadata": {},
     "output_type": "execute_result"
    }
   ],
   "source": [
    "df = pd.read_excel('data.xlsx', \n",
    "    sheet_name='Sheet1', \n",
    "    index_col=0,\n",
    "    skiprows=[0, 1]) # skip the row with the column titles\n",
    "df.head()"
   ]
  },
  {
   "attachments": {},
   "cell_type": "markdown",
   "metadata": {},
   "source": [
    "## PART 1"
   ]
  },
  {
   "attachments": {},
   "cell_type": "markdown",
   "metadata": {},
   "source": [
    "Compute the monthly returns using the adjusted closing prices"
   ]
  },
  {
   "cell_type": "code",
   "execution_count": 57,
   "metadata": {},
   "outputs": [
    {
     "data": {
      "text/html": [
       "<div>\n",
       "<style scoped>\n",
       "    .dataframe tbody tr th:only-of-type {\n",
       "        vertical-align: middle;\n",
       "    }\n",
       "\n",
       "    .dataframe tbody tr th {\n",
       "        vertical-align: top;\n",
       "    }\n",
       "\n",
       "    .dataframe thead th {\n",
       "        text-align: right;\n",
       "    }\n",
       "</style>\n",
       "<table border=\"1\" class=\"dataframe\">\n",
       "  <thead>\n",
       "    <tr style=\"text-align: right;\">\n",
       "      <th></th>\n",
       "      <th>S&amp;P 500</th>\n",
       "      <th>MSFT</th>\n",
       "      <th>WBA</th>\n",
       "      <th>TSLA</th>\n",
       "    </tr>\n",
       "    <tr>\n",
       "      <th>Date</th>\n",
       "      <th></th>\n",
       "      <th></th>\n",
       "      <th></th>\n",
       "      <th></th>\n",
       "    </tr>\n",
       "  </thead>\n",
       "  <tbody>\n",
       "    <tr>\n",
       "      <th>2011-01-03</th>\n",
       "      <td>0.022646</td>\n",
       "      <td>-0.006449</td>\n",
       "      <td>0.037988</td>\n",
       "      <td>-0.095006</td>\n",
       "    </tr>\n",
       "    <tr>\n",
       "      <th>2011-02-01</th>\n",
       "      <td>0.031957</td>\n",
       "      <td>-0.035806</td>\n",
       "      <td>0.076159</td>\n",
       "      <td>-0.008714</td>\n",
       "    </tr>\n",
       "    <tr>\n",
       "      <th>2011-03-01</th>\n",
       "      <td>-0.001047</td>\n",
       "      <td>-0.044771</td>\n",
       "      <td>-0.073835</td>\n",
       "      <td>0.161574</td>\n",
       "    </tr>\n",
       "    <tr>\n",
       "      <th>2011-04-01</th>\n",
       "      <td>0.028495</td>\n",
       "      <td>0.020874</td>\n",
       "      <td>0.064275</td>\n",
       "      <td>-0.005405</td>\n",
       "    </tr>\n",
       "    <tr>\n",
       "      <th>2011-05-02</th>\n",
       "      <td>-0.013501</td>\n",
       "      <td>-0.028783</td>\n",
       "      <td>0.025352</td>\n",
       "      <td>0.092029</td>\n",
       "    </tr>\n",
       "  </tbody>\n",
       "</table>\n",
       "</div>"
      ],
      "text/plain": [
       "             S&P 500      MSFT       WBA      TSLA\n",
       "Date                                              \n",
       "2011-01-03  0.022646 -0.006449  0.037988 -0.095006\n",
       "2011-02-01  0.031957 -0.035806  0.076159 -0.008714\n",
       "2011-03-01 -0.001047 -0.044771 -0.073835  0.161574\n",
       "2011-04-01  0.028495  0.020874  0.064275 -0.005405\n",
       "2011-05-02 -0.013501 -0.028783  0.025352  0.092029"
      ]
     },
     "execution_count": 57,
     "metadata": {},
     "output_type": "execute_result"
    }
   ],
   "source": [
    "returns = df.pct_change()\n",
    "# drop first row from your DataFrame\n",
    "returns.drop(returns.index[0], inplace=True)\n",
    "returns.head()"
   ]
  },
  {
   "cell_type": "markdown",
   "metadata": {},
   "source": [
    "## PART 2"
   ]
  },
  {
   "cell_type": "markdown",
   "metadata": {},
   "source": [
    "Compute the average monthly return"
   ]
  },
  {
   "cell_type": "code",
   "execution_count": 58,
   "metadata": {},
   "outputs": [
    {
     "data": {
      "text/plain": [
       "S&P 500    0.008684\n",
       "MSFT       0.015728\n",
       "WBA        0.017635\n",
       "TSLA       0.048767\n",
       "dtype: float64"
      ]
     },
     "execution_count": 58,
     "metadata": {},
     "output_type": "execute_result"
    }
   ],
   "source": [
    "returns.mean()"
   ]
  },
  {
   "attachments": {},
   "cell_type": "markdown",
   "metadata": {},
   "source": [
    "Convert the monthly statistics to annual statistics"
   ]
  },
  {
   "cell_type": "code",
   "execution_count": 59,
   "metadata": {},
   "outputs": [
    {
     "data": {
      "text/plain": [
       "S&P 500    0.104208\n",
       "MSFT       0.188735\n",
       "WBA        0.211618\n",
       "TSLA       0.585202\n",
       "dtype: float64"
      ]
     },
     "execution_count": 59,
     "metadata": {},
     "output_type": "execute_result"
    }
   ],
   "source": [
    "returns.mean() * 12"
   ]
  },
  {
   "attachments": {},
   "cell_type": "markdown",
   "metadata": {},
   "source": [
    "Compute geometric mean"
   ]
  },
  {
   "cell_type": "code",
   "execution_count": 60,
   "metadata": {},
   "outputs": [
    {
     "data": {
      "text/plain": [
       "S&P 500    0.008127\n",
       "MSFT       0.013842\n",
       "WBA        0.014986\n",
       "TSLA       0.037324\n",
       "dtype: float64"
      ]
     },
     "execution_count": 60,
     "metadata": {},
     "output_type": "execute_result"
    }
   ],
   "source": [
    "geomeans = (returns+1).prod()**(1/len(returns)) - 1\n",
    "geomeans"
   ]
  },
  {
   "cell_type": "markdown",
   "metadata": {},
   "source": [
    "Convert the monthly statistics to annual statistics"
   ]
  },
  {
   "cell_type": "code",
   "execution_count": 61,
   "metadata": {},
   "outputs": [
    {
     "data": {
      "text/plain": [
       "S&P 500    0.102002\n",
       "MSFT       0.179353\n",
       "WBA        0.195420\n",
       "TSLA       0.552286\n",
       "dtype: float64"
      ]
     },
     "execution_count": 61,
     "metadata": {},
     "output_type": "execute_result"
    }
   ],
   "source": [
    "annual_returns = (1 + geomeans)**12 - 1\n",
    "annual_returns"
   ]
  },
  {
   "cell_type": "markdown",
   "metadata": {},
   "source": [
    "Compute the monthly standard deviation"
   ]
  },
  {
   "cell_type": "code",
   "execution_count": 62,
   "metadata": {},
   "outputs": [
    {
     "data": {
      "text/plain": [
       "S&P 500    0.033771\n",
       "MSFT       0.063023\n",
       "WBA        0.074807\n",
       "TSLA       0.166315\n",
       "dtype: float64"
      ]
     },
     "execution_count": 62,
     "metadata": {},
     "output_type": "execute_result"
    }
   ],
   "source": [
    "returns.std()"
   ]
  },
  {
   "cell_type": "markdown",
   "metadata": {},
   "source": [
    "Convert the monthly statistics to annual statistic"
   ]
  },
  {
   "cell_type": "code",
   "execution_count": 63,
   "metadata": {},
   "outputs": [
    {
     "data": {
      "text/plain": [
       "S&P 500    0.116985\n",
       "MSFT       0.218318\n",
       "WBA        0.259139\n",
       "TSLA       0.576133\n",
       "dtype: float64"
      ]
     },
     "execution_count": 63,
     "metadata": {},
     "output_type": "execute_result"
    }
   ],
   "source": [
    "annual_risk = returns.std() * 12**0.5\n",
    "annual_risk"
   ]
  },
  {
   "attachments": {},
   "cell_type": "markdown",
   "metadata": {},
   "source": [
    "## PART 3"
   ]
  },
  {
   "attachments": {},
   "cell_type": "markdown",
   "metadata": {},
   "source": [
    "Create a scatter plot that shows the mean annual returns and standard deviations in the average return and volatility space.\n",
    "\n",
    "Volatility should go on the x-axis and average return should go on the y-axis."
   ]
  },
  {
   "cell_type": "code",
   "execution_count": 64,
   "metadata": {},
   "outputs": [
    {
     "data": {
      "image/png": "[encoded data removed]",
      "text/plain": [
       "<Figure size 640x480 with 1 Axes>"
      ]
     },
     "metadata": {},
     "output_type": "display_data"
    }
   ],
   "source": [
    "import matplotlib.pyplot as plt\n",
    "\n",
    "#create figure\n",
    "fig=plt.figure()\n",
    "labels = returns.columns.array\n",
    "er = returns.mean() * 100\n",
    "risk = returns.std() * 100\n",
    "\n",
    "for x, y, label in zip(risk, er, labels):\n",
    "    plt.scatter(x, y)\n",
    "    plt.annotate(label, xy=(x, y), xytext=(10,0), textcoords=\"offset points\")\n",
    "\n",
    "#labelling the axes\n",
    "plt.xlabel('Volatility %')\n",
    "plt.ylabel('Return %')\n",
    "\n",
    "#optional title\n",
    "plt.title('Scatter Plot of Volatility vs Return')\n",
    "\n",
    "#showing plot\n",
    "plt.show()"
   ]
  }
 ],
 "metadata": {
  "kernelspec": {
   "display_name": ".venv",
   "language": "python",
   "name": "python3"
  },
  "language_info": {
   "codemirror_mode": {
    "name": "ipython",
    "version": 3
   },
   "file_extension": ".py",
   "mimetype": "text/x-python",
   "name": "python",
   "nbconvert_exporter": "python",
   "pygments_lexer": "ipython3",
   "version": "3.9.16"
  },
  "orig_nbformat": 4,
  "vscode": {
   "interpreter": {
    "hash": "4d89d975450d2c50172f090a4af740770fc05aa7b50e2bf82c37d2bcf44fd2b6"
   }
  }
 },
 "nbformat": 4,
 "nbformat_minor": 2
}
