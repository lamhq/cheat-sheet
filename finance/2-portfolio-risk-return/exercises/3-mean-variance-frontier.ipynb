{
 "cells": [
  {
   "attachments": {},
   "cell_type": "markdown",
   "metadata": {},
   "source": [
    "# Constructing mean-variance frontier for two risky assets"
   ]
  },
  {
   "attachments": {},
   "cell_type": "markdown",
   "metadata": {},
   "source": [
    "## Setup"
   ]
  },
  {
   "cell_type": "code",
   "execution_count": null,
   "metadata": {},
   "outputs": [],
   "source": [
    "import pandas as pd\n",
    "import matplotlib.pyplot as plt\n",
    "import matplotlib.ticker as mtick"
   ]
  },
  {
   "cell_type": "markdown",
   "metadata": {},
   "source": [
    "## Load data"
   ]
  },
  {
   "cell_type": "code",
   "execution_count": 13,
   "metadata": {},
   "outputs": [
    {
     "data": {
      "text/html": [
       "<div>\n",
       "<style scoped>\n",
       "    .dataframe tbody tr th:only-of-type {\n",
       "        vertical-align: middle;\n",
       "    }\n",
       "\n",
       "    .dataframe tbody tr th {\n",
       "        vertical-align: top;\n",
       "    }\n",
       "\n",
       "    .dataframe thead th {\n",
       "        text-align: right;\n",
       "    }\n",
       "</style>\n",
       "<table border=\"1\" class=\"dataframe\">\n",
       "  <thead>\n",
       "    <tr style=\"text-align: right;\">\n",
       "      <th></th>\n",
       "      <th>Portfolio expected return</th>\n",
       "      <th>Portfolio volatility</th>\n",
       "    </tr>\n",
       "    <tr>\n",
       "      <th>w</th>\n",
       "      <th></th>\n",
       "      <th></th>\n",
       "    </tr>\n",
       "  </thead>\n",
       "  <tbody>\n",
       "    <tr>\n",
       "      <th>0.96</th>\n",
       "      <td>0.150068</td>\n",
       "      <td>0.224272</td>\n",
       "    </tr>\n",
       "    <tr>\n",
       "      <th>0.97</th>\n",
       "      <td>0.149976</td>\n",
       "      <td>0.225619</td>\n",
       "    </tr>\n",
       "    <tr>\n",
       "      <th>0.98</th>\n",
       "      <td>0.149884</td>\n",
       "      <td>0.226990</td>\n",
       "    </tr>\n",
       "    <tr>\n",
       "      <th>0.99</th>\n",
       "      <td>0.149792</td>\n",
       "      <td>0.228383</td>\n",
       "    </tr>\n",
       "    <tr>\n",
       "      <th>1.00</th>\n",
       "      <td>0.149700</td>\n",
       "      <td>0.229800</td>\n",
       "    </tr>\n",
       "  </tbody>\n",
       "</table>\n",
       "</div>"
      ],
      "text/plain": [
       "      Portfolio expected return  Portfolio volatility\n",
       "w                                                    \n",
       "0.96                   0.150068              0.224272\n",
       "0.97                   0.149976              0.225619\n",
       "0.98                   0.149884              0.226990\n",
       "0.99                   0.149792              0.228383\n",
       "1.00                   0.149700              0.229800"
      ]
     },
     "execution_count": 13,
     "metadata": {},
     "output_type": "execute_result"
    }
   ],
   "source": [
    "df1 = pd.read_excel('Assignment3_MeanVarianceFrontier_Part1.xlsx', \n",
    "    sheet_name='Data', \n",
    "    usecols='G:I', #read only columns G through I\n",
    "    index_col=0,\n",
    "    skiprows=4, # skip the first 4 row\n",
    "    nrows=101 # read 100 rows\n",
    ") \n",
    "df1.tail()"
   ]
  },
  {
   "cell_type": "code",
   "execution_count": 14,
   "metadata": {},
   "outputs": [
    {
     "data": {
      "text/html": [
       "<div>\n",
       "<style scoped>\n",
       "    .dataframe tbody tr th:only-of-type {\n",
       "        vertical-align: middle;\n",
       "    }\n",
       "\n",
       "    .dataframe tbody tr th {\n",
       "        vertical-align: top;\n",
       "    }\n",
       "\n",
       "    .dataframe thead th {\n",
       "        text-align: right;\n",
       "    }\n",
       "</style>\n",
       "<table border=\"1\" class=\"dataframe\">\n",
       "  <thead>\n",
       "    <tr style=\"text-align: right;\">\n",
       "      <th></th>\n",
       "      <th>Portfolio expected return</th>\n",
       "      <th>Portfolio volatility</th>\n",
       "    </tr>\n",
       "    <tr>\n",
       "      <th>w</th>\n",
       "      <th></th>\n",
       "      <th></th>\n",
       "    </tr>\n",
       "  </thead>\n",
       "  <tbody>\n",
       "    <tr>\n",
       "      <th>0.96</th>\n",
       "      <td>0.150068</td>\n",
       "      <td>0.225625</td>\n",
       "    </tr>\n",
       "    <tr>\n",
       "      <th>0.97</th>\n",
       "      <td>0.149976</td>\n",
       "      <td>0.226639</td>\n",
       "    </tr>\n",
       "    <tr>\n",
       "      <th>0.98</th>\n",
       "      <td>0.149884</td>\n",
       "      <td>0.227673</td>\n",
       "    </tr>\n",
       "    <tr>\n",
       "      <th>0.99</th>\n",
       "      <td>0.149792</td>\n",
       "      <td>0.228727</td>\n",
       "    </tr>\n",
       "    <tr>\n",
       "      <th>1.00</th>\n",
       "      <td>0.149700</td>\n",
       "      <td>0.229800</td>\n",
       "    </tr>\n",
       "  </tbody>\n",
       "</table>\n",
       "</div>"
      ],
      "text/plain": [
       "      Portfolio expected return  Portfolio volatility\n",
       "w                                                    \n",
       "0.96                   0.150068              0.225625\n",
       "0.97                   0.149976              0.226639\n",
       "0.98                   0.149884              0.227673\n",
       "0.99                   0.149792              0.228727\n",
       "1.00                   0.149700              0.229800"
      ]
     },
     "execution_count": 14,
     "metadata": {},
     "output_type": "execute_result"
    }
   ],
   "source": [
    "df2 = pd.read_excel('Assignment3_MeanVarianceFrontier_Part2.xlsx', \n",
    "    sheet_name='Data', \n",
    "    usecols='G:I', #read only columns G through I\n",
    "    index_col=0,\n",
    "    skiprows=5, # skip the first 5 rows\n",
    "    nrows=101 # read 101 rows\n",
    ") \n",
    "df2.tail()"
   ]
  },
  {
   "attachments": {},
   "cell_type": "markdown",
   "metadata": {},
   "source": [
    "### Frontier 1\n",
    "\n",
    "|       | Expected return | Volatility |\n",
    "|-------|-----------------|------------|\n",
    "| UK    | 15.890%         | 24.300%    |\n",
    "| Japan | 14.970%         | 22.980%    |\n",
    "\n",
    "Correlation matrix:\n",
    "\n",
    "|       | UK     | Japan   |\n",
    "|-------|--------|---------|\n",
    "| UK    | 1.0000 | 0.3581  |\n",
    "| Japan | 0.3581 | 1.0000  |\n",
    "\n",
    "Minimum variance portfolio:\n",
    "\n",
    "|                | w      | Expected return | Volatility |\n",
    "|----------------|--------|-----------------|------------|\n",
    "| Japan's weight | 0.5434 | 0.1539          | 0.0378     |\n",
    "| UK's weight    | 0.4566 |                 |            |\n",
    "\n",
    "\n",
    "### Frontier 2\n",
    "\n",
    "Correlation matrix:\n",
    "\n",
    "|       | UK     | Japan   |\n",
    "|-------|--------|---------|\n",
    "| UK    | 1.0000 | 0.5000  |\n",
    "| Japan | 0.5000 | 1.0000  |\n",
    "\n",
    "Minimum variance portfolio:\n",
    "\n",
    "|                | w      | Expected return | Volatility |\n",
    "|----------------|--------|-----------------|------------|\n",
    "| Japan's weight | 0.5557 | 0.1538          | 0.0418     |\n",
    "| UK's weight    | 0.4443 |                 |            |\n"
   ]
  },
  {
   "cell_type": "code",
   "execution_count": 15,
   "metadata": {},
   "outputs": [
    {
     "data": {
      "image/png": "[encoded data removed]",
      "text/plain": [
       "<Figure size 1000x600 with 1 Axes>"
      ]
     },
     "metadata": {},
     "output_type": "display_data"
    }
   ],
   "source": [
    "# Set x and y values for each line\n",
    "x1 = df1['Portfolio volatility']\n",
    "y1 = df1['Portfolio expected return']\n",
    "\n",
    "x2 = df2['Portfolio volatility']\n",
    "y2 = df2['Portfolio expected return']\n",
    "\n",
    "# Create the plot\n",
    "fig, ax = plt.subplots(figsize=(10,6))\n",
    "\n",
    "ax.plot(x1, y1, label='F1')\n",
    "ax.plot(x2, y2, label='F2')\n",
    "\n",
    "# Format the tick marks to display percentages with 2 decimal places\n",
    "ax.xaxis.set_major_formatter(mtick.PercentFormatter(xmax=1, decimals=2))\n",
    "ax.yaxis.set_major_formatter(mtick.PercentFormatter(xmax=1, decimals=2))\n",
    "\n",
    "# add title and x/y-axis labels\n",
    "plt.title('Mean variance frontiers')\n",
    "plt.xlabel('Volatility')\n",
    "plt.ylabel('Expected return')\n",
    "\n",
    "# Add legend\n",
    "plt.legend(loc='best')\n",
    "\n",
    "plt.show()\n"
   ]
  },
  {
   "attachments": {},
   "cell_type": "markdown",
   "metadata": {},
   "source": [
    "### Comparison\n",
    "\n",
    "1. Which one provides greater diversification?\n",
    "\n",
    "    The frontier in assignment 1 (F1)\n",
    "\n",
    "2. How do they differ? \n",
    "\n",
    "    With the same expected return, portfolios in F1 always has the lower volatility than F2\n",
    "\n",
    "3. How are weights for the two global minimum variance portfolio different? \n",
    "\n",
    "    The weight of the global minimum variance portfolio of F1 is smaller than F2\n",
    "\n",
    "4. How do you explain this difference?\n",
    "\n",
    "    Because the corellation between Japan and UK equity in F1 is less than in F2"
   ]
  }
 ],
 "metadata": {
  "kernelspec": {
   "display_name": ".venv",
   "language": "python",
   "name": "python3"
  },
  "language_info": {
   "codemirror_mode": {
    "name": "ipython",
    "version": 3
   },
   "file_extension": ".py",
   "mimetype": "text/x-python",
   "name": "python",
   "nbconvert_exporter": "python",
   "pygments_lexer": "ipython3",
   "version": "3.9.16"
  },
  "orig_nbformat": 4
 },
 "nbformat": 4,
 "nbformat_minor": 2
}
