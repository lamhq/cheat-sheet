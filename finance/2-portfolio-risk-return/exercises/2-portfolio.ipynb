{
 "cells": [
  {
   "cell_type": "markdown",
   "metadata": {},
   "source": [
    "# Portfolio's Risk n Return Exercise"
   ]
  },
  {
   "cell_type": "code",
   "execution_count": 54,
   "metadata": {},
   "outputs": [],
   "source": [
    "import pandas as pd\n",
    "import numpy as np"
   ]
  },
  {
   "cell_type": "code",
   "execution_count": 55,
   "metadata": {},
   "outputs": [
    {
     "data": {
      "text/html": [
       "<div>\n",
       "<style scoped>\n",
       "    .dataframe tbody tr th:only-of-type {\n",
       "        vertical-align: middle;\n",
       "    }\n",
       "\n",
       "    .dataframe tbody tr th {\n",
       "        vertical-align: top;\n",
       "    }\n",
       "\n",
       "    .dataframe thead th {\n",
       "        text-align: right;\n",
       "    }\n",
       "</style>\n",
       "<table border=\"1\" class=\"dataframe\">\n",
       "  <thead>\n",
       "    <tr style=\"text-align: right;\">\n",
       "      <th></th>\n",
       "      <th>S&amp;P 500</th>\n",
       "      <th>MSFT</th>\n",
       "      <th>WBA</th>\n",
       "      <th>TSLA</th>\n",
       "    </tr>\n",
       "    <tr>\n",
       "      <th>Date</th>\n",
       "      <th></th>\n",
       "      <th></th>\n",
       "      <th></th>\n",
       "      <th></th>\n",
       "    </tr>\n",
       "  </thead>\n",
       "  <tbody>\n",
       "    <tr>\n",
       "      <th>2010-12-01</th>\n",
       "      <td>1257.640015</td>\n",
       "      <td>23.976345</td>\n",
       "      <td>34.562576</td>\n",
       "      <td>26.629999</td>\n",
       "    </tr>\n",
       "    <tr>\n",
       "      <th>2011-01-03</th>\n",
       "      <td>1286.119995</td>\n",
       "      <td>23.821714</td>\n",
       "      <td>35.875526</td>\n",
       "      <td>24.100000</td>\n",
       "    </tr>\n",
       "    <tr>\n",
       "      <th>2011-02-01</th>\n",
       "      <td>1327.219971</td>\n",
       "      <td>22.968760</td>\n",
       "      <td>38.607777</td>\n",
       "      <td>23.889999</td>\n",
       "    </tr>\n",
       "    <tr>\n",
       "      <th>2011-03-01</th>\n",
       "      <td>1325.829956</td>\n",
       "      <td>21.940435</td>\n",
       "      <td>35.757179</td>\n",
       "      <td>27.750000</td>\n",
       "    </tr>\n",
       "    <tr>\n",
       "      <th>2011-04-01</th>\n",
       "      <td>1363.609985</td>\n",
       "      <td>22.398430</td>\n",
       "      <td>38.055477</td>\n",
       "      <td>27.600000</td>\n",
       "    </tr>\n",
       "  </tbody>\n",
       "</table>\n",
       "</div>"
      ],
      "text/plain": [
       "                S&P 500       MSFT        WBA       TSLA\n",
       "Date                                                    \n",
       "2010-12-01  1257.640015  23.976345  34.562576  26.629999\n",
       "2011-01-03  1286.119995  23.821714  35.875526  24.100000\n",
       "2011-02-01  1327.219971  22.968760  38.607777  23.889999\n",
       "2011-03-01  1325.829956  21.940435  35.757179  27.750000\n",
       "2011-04-01  1363.609985  22.398430  38.055477  27.600000"
      ]
     },
     "execution_count": 55,
     "metadata": {},
     "output_type": "execute_result"
    }
   ],
   "source": [
    "df = pd.read_excel('data.xlsx', \n",
    "    sheet_name='Sheet1', \n",
    "    index_col=0,\n",
    "    skiprows=[0, 1]) # skip the row with the column titles\n",
    "df.head()"
   ]
  },
  {
   "attachments": {},
   "cell_type": "markdown",
   "metadata": {},
   "source": [
    "## PART 1"
   ]
  },
  {
   "attachments": {},
   "cell_type": "markdown",
   "metadata": {},
   "source": [
    "Compute monthly returns using the adjusted closing prices"
   ]
  },
  {
   "cell_type": "code",
   "execution_count": 56,
   "metadata": {},
   "outputs": [],
   "source": [
    "returns = df.pct_change()\n",
    "# drop first row from your DataFrame\n",
    "returns.drop(returns.index[0], inplace=True)\n",
    "\n",
    "# get returns of three stocks for calculation\n",
    "df3 = returns[['MSFT', 'WBA', 'TSLA']]\n",
    "\n",
    "# equally-weighted between MSFT, WBA, and TSLA\n",
    "w1 = [1/3, 1/3, 1/3]\n",
    "returns['P1'] = np.dot(df3, w1)\n",
    "\n",
    "# 30% in MSFT, 20% WBA, and 50% TSLA\n",
    "w2 = [0.3, 0.2, 0.5]\n",
    "returns['P2'] = np.dot(df3, w2)\n",
    "\n",
    "# 50% in MSFT, 30% WBA, and 20% TSLA\n",
    "w3 = [0.5, 0.3, 0.2]\n",
    "returns['P3'] = np.dot(df3, w3)\n",
    "\n",
    "# 20% in MSFT, 50% WBA and 30% TSLA\n",
    "w4 = [0.2, 0.5, 0.3]\n",
    "returns['P4'] = np.dot(df3, w4)"
   ]
  },
  {
   "attachments": {},
   "cell_type": "markdown",
   "metadata": {},
   "source": [
    "Compute variance-covariance matrix for MSFT, WBA, and TSLA"
   ]
  },
  {
   "cell_type": "code",
   "execution_count": 57,
   "metadata": {},
   "outputs": [
    {
     "data": {
      "text/html": [
       "<div>\n",
       "<style scoped>\n",
       "    .dataframe tbody tr th:only-of-type {\n",
       "        vertical-align: middle;\n",
       "    }\n",
       "\n",
       "    .dataframe tbody tr th {\n",
       "        vertical-align: top;\n",
       "    }\n",
       "\n",
       "    .dataframe thead th {\n",
       "        text-align: right;\n",
       "    }\n",
       "</style>\n",
       "<table border=\"1\" class=\"dataframe\">\n",
       "  <thead>\n",
       "    <tr style=\"text-align: right;\">\n",
       "      <th></th>\n",
       "      <th>MSFT</th>\n",
       "      <th>WBA</th>\n",
       "      <th>TSLA</th>\n",
       "    </tr>\n",
       "  </thead>\n",
       "  <tbody>\n",
       "    <tr>\n",
       "      <th>MSFT</th>\n",
       "      <td>0.003972</td>\n",
       "      <td>0.000289</td>\n",
       "      <td>0.001668</td>\n",
       "    </tr>\n",
       "    <tr>\n",
       "      <th>WBA</th>\n",
       "      <td>0.000289</td>\n",
       "      <td>0.005596</td>\n",
       "      <td>0.000123</td>\n",
       "    </tr>\n",
       "    <tr>\n",
       "      <th>TSLA</th>\n",
       "      <td>0.001668</td>\n",
       "      <td>0.000123</td>\n",
       "      <td>0.027661</td>\n",
       "    </tr>\n",
       "  </tbody>\n",
       "</table>\n",
       "</div>"
      ],
      "text/plain": [
       "          MSFT       WBA      TSLA\n",
       "MSFT  0.003972  0.000289  0.001668\n",
       "WBA   0.000289  0.005596  0.000123\n",
       "TSLA  0.001668  0.000123  0.027661"
      ]
     },
     "execution_count": 57,
     "metadata": {},
     "output_type": "execute_result"
    }
   ],
   "source": [
    "df3.cov()"
   ]
  },
  {
   "attachments": {},
   "cell_type": "markdown",
   "metadata": {},
   "source": [
    "Compute correlation matrix for MSFT, WBA, and TSLA "
   ]
  },
  {
   "cell_type": "code",
   "execution_count": 58,
   "metadata": {},
   "outputs": [
    {
     "data": {
      "text/html": [
       "<div>\n",
       "<style scoped>\n",
       "    .dataframe tbody tr th:only-of-type {\n",
       "        vertical-align: middle;\n",
       "    }\n",
       "\n",
       "    .dataframe tbody tr th {\n",
       "        vertical-align: top;\n",
       "    }\n",
       "\n",
       "    .dataframe thead th {\n",
       "        text-align: right;\n",
       "    }\n",
       "</style>\n",
       "<table border=\"1\" class=\"dataframe\">\n",
       "  <thead>\n",
       "    <tr style=\"text-align: right;\">\n",
       "      <th></th>\n",
       "      <th>MSFT</th>\n",
       "      <th>WBA</th>\n",
       "      <th>TSLA</th>\n",
       "    </tr>\n",
       "  </thead>\n",
       "  <tbody>\n",
       "    <tr>\n",
       "      <th>MSFT</th>\n",
       "      <td>1.000000</td>\n",
       "      <td>0.061404</td>\n",
       "      <td>0.159141</td>\n",
       "    </tr>\n",
       "    <tr>\n",
       "      <th>WBA</th>\n",
       "      <td>0.061404</td>\n",
       "      <td>1.000000</td>\n",
       "      <td>0.009883</td>\n",
       "    </tr>\n",
       "    <tr>\n",
       "      <th>TSLA</th>\n",
       "      <td>0.159141</td>\n",
       "      <td>0.009883</td>\n",
       "      <td>1.000000</td>\n",
       "    </tr>\n",
       "  </tbody>\n",
       "</table>\n",
       "</div>"
      ],
      "text/plain": [
       "          MSFT       WBA      TSLA\n",
       "MSFT  1.000000  0.061404  0.159141\n",
       "WBA   0.061404  1.000000  0.009883\n",
       "TSLA  0.159141  0.009883  1.000000"
      ]
     },
     "execution_count": 58,
     "metadata": {},
     "output_type": "execute_result"
    }
   ],
   "source": [
    "df3.corr()"
   ]
  },
  {
   "attachments": {},
   "cell_type": "markdown",
   "metadata": {},
   "source": [
    "### Compute expected return and volatility for each portfolio (monthly)"
   ]
  },
  {
   "cell_type": "code",
   "execution_count": 59,
   "metadata": {},
   "outputs": [
    {
     "data": {
      "text/plain": [
       "S&P 500    0.008684\n",
       "MSFT       0.015728\n",
       "WBA        0.017635\n",
       "TSLA       0.048767\n",
       "P1         0.027377\n",
       "P2         0.032629\n",
       "P3         0.022908\n",
       "P4         0.026593\n",
       "dtype: float64"
      ]
     },
     "execution_count": 59,
     "metadata": {},
     "output_type": "execute_result"
    }
   ],
   "source": [
    "# calculate average return\n",
    "returns.mean()"
   ]
  },
  {
   "cell_type": "code",
   "execution_count": 60,
   "metadata": {},
   "outputs": [
    {
     "data": {
      "text/plain": [
       "S&P 500    0.033771\n",
       "MSFT       0.063023\n",
       "WBA        0.074807\n",
       "TSLA       0.166315\n",
       "P1         0.067815\n",
       "P2         0.089757\n",
       "P3         0.055121\n",
       "P4         0.065896\n",
       "dtype: float64"
      ]
     },
     "execution_count": 60,
     "metadata": {},
     "output_type": "execute_result"
    }
   ],
   "source": [
    "# calculate risk\n",
    "returns.std()"
   ]
  },
  {
   "attachments": {},
   "cell_type": "markdown",
   "metadata": {},
   "source": [
    "Another method for calculating portfolio's risk without portfolio's monthly returns"
   ]
  },
  {
   "cell_type": "code",
   "execution_count": 63,
   "metadata": {},
   "outputs": [
    {
     "data": {
      "text/plain": [
       "0.06781492286970635"
      ]
     },
     "execution_count": 63,
     "metadata": {},
     "output_type": "execute_result"
    }
   ],
   "source": [
    "weights = np.array([1/3, 1/3, 1/3])\n",
    "np.dot( np.dot(weights, df3.cov()), weights.T) ** 0.5"
   ]
  },
  {
   "attachments": {},
   "cell_type": "markdown",
   "metadata": {},
   "source": [
    "## PART 2"
   ]
  },
  {
   "attachments": {},
   "cell_type": "markdown",
   "metadata": {},
   "source": [
    "Create a scatter plot that shows the average return and standard deviation for:\n",
    "- the three stocks\n",
    "- the S&P index\n",
    "- the four portfolios"
   ]
  },
  {
   "cell_type": "code",
   "execution_count": 62,
   "metadata": {},
   "outputs": [
    {
     "data": {
      "image/png": "[encoded data removed]",
      "text/plain": [
       "<Figure size 640x480 with 1 Axes>"
      ]
     },
     "metadata": {},
     "output_type": "display_data"
    }
   ],
   "source": [
    "import matplotlib.pyplot as plt\n",
    "\n",
    "#create figure\n",
    "fig=plt.figure()\n",
    "labels = returns.columns.array\n",
    "er = returns.mean() * 100\n",
    "risk = returns.std() * 100\n",
    "\n",
    "for x, y, label in zip(risk, er, labels):\n",
    "    plt.scatter(x, y)\n",
    "    plt.annotate(label, xy=(x, y), xytext=(10,0), textcoords=\"offset points\")\n",
    "\n",
    "#labelling the axes\n",
    "plt.xlabel('Volatility %')\n",
    "plt.ylabel('Return %')\n",
    "\n",
    "#optional title\n",
    "plt.title('Scatter Plot of Volatility vs Return')\n",
    "\n",
    "#showing plot\n",
    "plt.show()"
   ]
  }
 ],
 "metadata": {
  "kernelspec": {
   "display_name": ".venv",
   "language": "python",
   "name": "python3"
  },
  "language_info": {
   "codemirror_mode": {
    "name": "ipython",
    "version": 3
   },
   "file_extension": ".py",
   "mimetype": "text/x-python",
   "name": "python",
   "nbconvert_exporter": "python",
   "pygments_lexer": "ipython3",
   "version": "3.9.16"
  },
  "orig_nbformat": 4,
  "vscode": {
   "interpreter": {
    "hash": "4d89d975450d2c50172f090a4af740770fc05aa7b50e2bf82c37d2bcf44fd2b6"
   }
  }
 },
 "nbformat": 4,
 "nbformat_minor": 2
}
