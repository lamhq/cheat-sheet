{
 "cells": [
  {
   "attachments": {},
   "cell_type": "markdown",
   "metadata": {},
   "source": [
    "# Portfolio Risk & Return"
   ]
  },
  {
   "cell_type": "code",
   "execution_count": 72,
   "metadata": {},
   "outputs": [],
   "source": [
    "from typing import List\n",
    "import pandas as pd\n",
    "import numpy as np\n",
    "import matplotlib.pyplot as plt\n",
    "from scipy.optimize import minimize"
   ]
  },
  {
   "cell_type": "code",
   "execution_count": 5,
   "metadata": {},
   "outputs": [],
   "source": [
    "# probability weighted mean\n",
    "def prob_mean(values: List[float], prob: List[float]) -> float:\n",
    "    return np.dot(values, prob)\n",
    "\n",
    "# probability weighted standard deviation\n",
    "def prob_std(values: List[float], prob: List[float]) -> float:\n",
    "    er = prob_mean(values, prob)\n",
    "    return np.dot((values - er)**2, prob) ** 0.5\n",
    "\n",
    "# portfolio probability weighted mean\n",
    "def prob_port_mean(df, prob, weights):\n",
    "    # calculate expected returns of each assets\n",
    "    asset_returns = np.dot(df.T, prob)\n",
    "    # calculate weighted return\n",
    "    return np.dot(asset_returns, weights)\n",
    "\n",
    "# portfolio probability weighted risk\n",
    "def prob_port_risk(df, prob, weights):\n",
    "    # calculate weighted returns in each state of economy\n",
    "    returns = np.dot(df, weights)\n",
    "    # calculate protfolio expected return\n",
    "    er = prob_port_mean(df, prob, weights)\n",
    "    # calculate probability weighted square of deviation from expected return\n",
    "    return np.dot((returns - er)**2, prob) ** 0.5\n",
    "\n",
    "# probability weighted covariance\n",
    "def prob_cov(x, y, prob):\n",
    "    ex = prob_mean(x, prob)\n",
    "    ey = prob_mean(y, prob)\n",
    "    return np.dot( (x - ex) * (y - ey) , prob)\n",
    "\n",
    "# probability weighted correlation\n",
    "def prob_cor(x, y, prob):\n",
    "    covariance = prob_cov(x, y, prob)\n",
    "    stdx = prob_std(x, prob)\n",
    "    stdy = prob_std(y, prob)\n",
    "    return covariance / (stdx * stdy)"
   ]
  },
  {
   "attachments": {},
   "cell_type": "markdown",
   "metadata": {},
   "source": [
    "## Expected Return"
   ]
  },
  {
   "cell_type": "code",
   "execution_count": 6,
   "metadata": {},
   "outputs": [
    {
     "data": {
      "text/html": [
       "<div>\n",
       "<style scoped>\n",
       "    .dataframe tbody tr th:only-of-type {\n",
       "        vertical-align: middle;\n",
       "    }\n",
       "\n",
       "    .dataframe tbody tr th {\n",
       "        vertical-align: top;\n",
       "    }\n",
       "\n",
       "    .dataframe thead th {\n",
       "        text-align: right;\n",
       "    }\n",
       "</style>\n",
       "<table border=\"1\" class=\"dataframe\">\n",
       "  <thead>\n",
       "    <tr style=\"text-align: right;\">\n",
       "      <th></th>\n",
       "      <th>Toyota</th>\n",
       "      <th>Pfizer</th>\n",
       "      <th>Walmart</th>\n",
       "    </tr>\n",
       "  </thead>\n",
       "  <tbody>\n",
       "    <tr>\n",
       "      <th>0</th>\n",
       "      <td>6.0</td>\n",
       "      <td>2.5</td>\n",
       "      <td>4.5</td>\n",
       "    </tr>\n",
       "    <tr>\n",
       "      <th>1</th>\n",
       "      <td>7.5</td>\n",
       "      <td>-0.5</td>\n",
       "      <td>5.5</td>\n",
       "    </tr>\n",
       "    <tr>\n",
       "      <th>2</th>\n",
       "      <td>2.0</td>\n",
       "      <td>1.0</td>\n",
       "      <td>4.0</td>\n",
       "    </tr>\n",
       "    <tr>\n",
       "      <th>3</th>\n",
       "      <td>-3.0</td>\n",
       "      <td>13.0</td>\n",
       "      <td>-1.0</td>\n",
       "    </tr>\n",
       "  </tbody>\n",
       "</table>\n",
       "</div>"
      ],
      "text/plain": [
       "   Toyota  Pfizer  Walmart\n",
       "0     6.0     2.5      4.5\n",
       "1     7.5    -0.5      5.5\n",
       "2     2.0     1.0      4.0\n",
       "3    -3.0    13.0     -1.0"
      ]
     },
     "execution_count": 6,
     "metadata": {},
     "output_type": "execute_result"
    }
   ],
   "source": [
    "P = np.array([0.1, 0.4, 0.3, 0.2])\n",
    "weights = np.array([1/3, 1/3, 1/3])\n",
    "\n",
    "df = pd.DataFrame({\n",
    "  \"Toyota\": [6, 7.5, 2, -3],\n",
    "  \"Pfizer\": [2.5, -0.5, 1, 13],\n",
    "  \"Walmart\": [4.5, 5.5, 4.0, -1]\n",
    "})\n",
    "df"
   ]
  },
  {
   "cell_type": "code",
   "execution_count": 23,
   "metadata": {},
   "outputs": [
    {
     "data": {
      "text/plain": [
       "3.4"
      ]
     },
     "execution_count": 23,
     "metadata": {},
     "output_type": "execute_result"
    }
   ],
   "source": [
    "pe = prob_port_mean(df, P, weights)\n",
    "pe"
   ]
  },
  {
   "cell_type": "markdown",
   "metadata": {},
   "source": [
    "## Risk"
   ]
  },
  {
   "cell_type": "code",
   "execution_count": 24,
   "metadata": {},
   "outputs": [
    {
     "data": {
      "text/plain": [
       "0.8339997335464538"
      ]
     },
     "execution_count": 24,
     "metadata": {},
     "output_type": "execute_result"
    }
   ],
   "source": [
    "risk = prob_port_risk(df, P, weights)\n",
    "risk"
   ]
  },
  {
   "cell_type": "markdown",
   "metadata": {},
   "source": [
    "## Correlation"
   ]
  },
  {
   "cell_type": "code",
   "execution_count": 25,
   "metadata": {},
   "outputs": [
    {
     "data": {
      "text/plain": [
       "0.9362004766821973"
      ]
     },
     "execution_count": 25,
     "metadata": {},
     "output_type": "execute_result"
    }
   ],
   "source": [
    "prob_cor(df['Toyota'], df['Walmart'], P)"
   ]
  },
  {
   "attachments": {},
   "cell_type": "markdown",
   "metadata": {},
   "source": [
    "## Minimum Variance Portfolio"
   ]
  },
  {
   "cell_type": "code",
   "execution_count": 73,
   "metadata": {},
   "outputs": [
    {
     "data": {
      "text/html": [
       "<div>\n",
       "<style scoped>\n",
       "    .dataframe tbody tr th:only-of-type {\n",
       "        vertical-align: middle;\n",
       "    }\n",
       "\n",
       "    .dataframe tbody tr th {\n",
       "        vertical-align: top;\n",
       "    }\n",
       "\n",
       "    .dataframe thead th {\n",
       "        text-align: right;\n",
       "    }\n",
       "</style>\n",
       "<table border=\"1\" class=\"dataframe\">\n",
       "  <thead>\n",
       "    <tr style=\"text-align: right;\">\n",
       "      <th></th>\n",
       "      <th>E</th>\n",
       "      <th>Std</th>\n",
       "    </tr>\n",
       "  </thead>\n",
       "  <tbody>\n",
       "    <tr>\n",
       "      <th>US</th>\n",
       "      <td>0.1355</td>\n",
       "      <td>0.1535</td>\n",
       "    </tr>\n",
       "    <tr>\n",
       "      <th>Japan</th>\n",
       "      <td>0.1497</td>\n",
       "      <td>0.2298</td>\n",
       "    </tr>\n",
       "  </tbody>\n",
       "</table>\n",
       "</div>"
      ],
      "text/plain": [
       "            E     Std\n",
       "US     0.1355  0.1535\n",
       "Japan  0.1497  0.2298"
      ]
     },
     "execution_count": 73,
     "metadata": {},
     "output_type": "execute_result"
    }
   ],
   "source": [
    "assets_df = pd.DataFrame({\n",
    "  'E': [0.1355, 0.1497],\n",
    "  'Std': [0.1535, 0.2298]\n",
    "}, index=['US', 'Japan'])\n",
    "corr = 0.2663\n",
    "\n",
    "use = assets_df.at['US', 'E']\n",
    "jpe = assets_df.at['Japan', 'E']\n",
    "usv = assets_df.at['US', 'Std']\n",
    "jpv = assets_df.at['Japan', 'Std']\n",
    "assets_df"
   ]
  },
  {
   "cell_type": "markdown",
   "metadata": {},
   "source": [
    "Find the optimal weight for US"
   ]
  },
  {
   "cell_type": "code",
   "execution_count": 85,
   "metadata": {},
   "outputs": [
    {
     "data": {
      "text/plain": [
       "{'w_US': 0.7539437736585762,\n",
       " 'w_Japan': 0.24605622634142377,\n",
       " 'E': 0.13899399841404822,\n",
       " 'Std': 0.14168963368419615}"
      ]
     },
     "execution_count": 85,
     "metadata": {},
     "output_type": "execute_result"
    }
   ],
   "source": [
    "def portfolio_variance(weight_us):\n",
    "  return (weight_us**2) * (usv**2) \\\n",
    "    + ((1-weight_us)**2) * (jpv**2) \\\n",
    "    + 2 * weight_us * (1-weight_us) * usv * jpv * corr\n",
    "\n",
    "bounds = ((0, 1),)\n",
    "initial_guess = 0\n",
    "optimized_result = minimize(portfolio_variance, initial_guess, \n",
    "  method='SLSQP',\n",
    "  bounds=bounds)\n",
    "\n",
    "wus = optimized_result.x[0]\n",
    "wjp = 1 - wus\n",
    "mvp = {\n",
    "  'w_US': wus,\n",
    "  'w_Japan': wjp,\n",
    "  'E': wus*use + wjp*jpe,\n",
    "  'Std': (wus**2*usv**2 + wjp**2*jpv**2 + 2*wus*wjp*usv*jpv*corr)**0.5\n",
    "}\n",
    "mvp"
   ]
  },
  {
   "attachments": {},
   "cell_type": "markdown",
   "metadata": {},
   "source": [
    "## Mean-variance frontier"
   ]
  },
  {
   "attachments": {},
   "cell_type": "markdown",
   "metadata": {},
   "source": [
    "Construct combination portfolios"
   ]
  },
  {
   "cell_type": "code",
   "execution_count": 78,
   "metadata": {},
   "outputs": [
    {
     "data": {
      "text/html": [
       "<div>\n",
       "<style scoped>\n",
       "    .dataframe tbody tr th:only-of-type {\n",
       "        vertical-align: middle;\n",
       "    }\n",
       "\n",
       "    .dataframe tbody tr th {\n",
       "        vertical-align: top;\n",
       "    }\n",
       "\n",
       "    .dataframe thead th {\n",
       "        text-align: right;\n",
       "    }\n",
       "</style>\n",
       "<table border=\"1\" class=\"dataframe\">\n",
       "  <thead>\n",
       "    <tr style=\"text-align: right;\">\n",
       "      <th></th>\n",
       "      <th>w_US</th>\n",
       "      <th>w_Japan</th>\n",
       "      <th>E</th>\n",
       "      <th>Std</th>\n",
       "    </tr>\n",
       "  </thead>\n",
       "  <tbody>\n",
       "    <tr>\n",
       "      <th>0</th>\n",
       "      <td>0.000</td>\n",
       "      <td>1.000</td>\n",
       "      <td>0.149700</td>\n",
       "      <td>0.229800</td>\n",
       "    </tr>\n",
       "    <tr>\n",
       "      <th>1</th>\n",
       "      <td>0.001</td>\n",
       "      <td>0.999</td>\n",
       "      <td>0.149686</td>\n",
       "      <td>0.229611</td>\n",
       "    </tr>\n",
       "    <tr>\n",
       "      <th>2</th>\n",
       "      <td>0.002</td>\n",
       "      <td>0.998</td>\n",
       "      <td>0.149672</td>\n",
       "      <td>0.229422</td>\n",
       "    </tr>\n",
       "    <tr>\n",
       "      <th>3</th>\n",
       "      <td>0.003</td>\n",
       "      <td>0.997</td>\n",
       "      <td>0.149657</td>\n",
       "      <td>0.229234</td>\n",
       "    </tr>\n",
       "    <tr>\n",
       "      <th>4</th>\n",
       "      <td>0.004</td>\n",
       "      <td>0.996</td>\n",
       "      <td>0.149643</td>\n",
       "      <td>0.229045</td>\n",
       "    </tr>\n",
       "    <tr>\n",
       "      <th>...</th>\n",
       "      <td>...</td>\n",
       "      <td>...</td>\n",
       "      <td>...</td>\n",
       "      <td>...</td>\n",
       "    </tr>\n",
       "    <tr>\n",
       "      <th>996</th>\n",
       "      <td>0.996</td>\n",
       "      <td>0.004</td>\n",
       "      <td>0.135557</td>\n",
       "      <td>0.153133</td>\n",
       "    </tr>\n",
       "    <tr>\n",
       "      <th>997</th>\n",
       "      <td>0.997</td>\n",
       "      <td>0.003</td>\n",
       "      <td>0.135543</td>\n",
       "      <td>0.153225</td>\n",
       "    </tr>\n",
       "    <tr>\n",
       "      <th>998</th>\n",
       "      <td>0.998</td>\n",
       "      <td>0.002</td>\n",
       "      <td>0.135528</td>\n",
       "      <td>0.153316</td>\n",
       "    </tr>\n",
       "    <tr>\n",
       "      <th>999</th>\n",
       "      <td>0.999</td>\n",
       "      <td>0.001</td>\n",
       "      <td>0.135514</td>\n",
       "      <td>0.153408</td>\n",
       "    </tr>\n",
       "    <tr>\n",
       "      <th>1000</th>\n",
       "      <td>1.000</td>\n",
       "      <td>0.000</td>\n",
       "      <td>0.135500</td>\n",
       "      <td>0.153500</td>\n",
       "    </tr>\n",
       "  </tbody>\n",
       "</table>\n",
       "<p>1001 rows × 4 columns</p>\n",
       "</div>"
      ],
      "text/plain": [
       "       w_US  w_Japan         E       Std\n",
       "0     0.000    1.000  0.149700  0.229800\n",
       "1     0.001    0.999  0.149686  0.229611\n",
       "2     0.002    0.998  0.149672  0.229422\n",
       "3     0.003    0.997  0.149657  0.229234\n",
       "4     0.004    0.996  0.149643  0.229045\n",
       "...     ...      ...       ...       ...\n",
       "996   0.996    0.004  0.135557  0.153133\n",
       "997   0.997    0.003  0.135543  0.153225\n",
       "998   0.998    0.002  0.135528  0.153316\n",
       "999   0.999    0.001  0.135514  0.153408\n",
       "1000  1.000    0.000  0.135500  0.153500\n",
       "\n",
       "[1001 rows x 4 columns]"
      ]
     },
     "execution_count": 78,
     "metadata": {},
     "output_type": "execute_result"
    }
   ],
   "source": [
    "p_df = pd.DataFrame({\n",
    "  'w_US': np.arange(0, 1.001, 0.001), \n",
    "})\n",
    "\n",
    "# calculate values for other column\n",
    "p_df['w_Japan'] = 1 - p_df['w_US']\n",
    "p_df['E'] = p_df['w_US'] * use + p_df['w_Japan'] * jpe\n",
    "p_df['Std'] = ((p_df['w_US']**2) * (usv**2) \\\n",
    "  + (p_df['w_Japan']**2) * (jpv**2) \\\n",
    "  + 2 * p_df['w_US'] * p_df['w_Japan'] * usv * jpv * corr) ** 0.5\n",
    "p_df"
   ]
  },
  {
   "attachments": {},
   "cell_type": "markdown",
   "metadata": {},
   "source": [
    "Plot mean-variance frontier"
   ]
  },
  {
   "cell_type": "code",
   "execution_count": 91,
   "metadata": {},
   "outputs": [
    {
     "data": {
      "image/png": "[encoded data removed]",
      "text/plain": [
       "<Figure size 1000x600 with 1 Axes>"
      ]
     },
     "metadata": {},
     "output_type": "display_data"
    }
   ],
   "source": [
    "# Create the plot\n",
    "fig, ax = plt.subplots(figsize=(10,6))\n",
    "\n",
    "# plot the mean variance frontier\n",
    "ax.plot(p_df['Std'], p_df['E'])\n",
    "\n",
    "# plot japan\n",
    "jpx = p_df.at[0, 'Std']\n",
    "jpy = p_df.at[0, 'E']\n",
    "ax.scatter(jpx, jpy, color='red')\n",
    "ax.text(jpx-0.002, jpy-0.001, 'Japan', fontsize=12)\n",
    "\n",
    "# plot us\n",
    "usx = p_df.at[1000, 'Std']\n",
    "usy = p_df.at[1000, 'E']\n",
    "ax.scatter(usx, usy, color='green')\n",
    "ax.text(usx+0.001, usy+0.001, 'US', fontsize=12)\n",
    "\n",
    "# plot minimum variance portfolio\n",
    "mpx = mvp['Std']\n",
    "mpy = mvp['E']\n",
    "ax.scatter(mpx, mpy, color='orange')\n",
    "ax.text(mpx+0.001, mpy+0.0001, 'Minimum variance portfolio', fontsize=12)\n",
    "\n",
    "# add title and x/y-axis labels\n",
    "plt.title('Mean variance frontier')\n",
    "plt.xlabel('Volatility')\n",
    "plt.ylabel('Expected return')\n",
    "\n",
    "plt.show()"
   ]
  }
 ],
 "metadata": {
  "kernelspec": {
   "display_name": ".venv",
   "language": "python",
   "name": "python3"
  },
  "language_info": {
   "codemirror_mode": {
    "name": "ipython",
    "version": 3
   },
   "file_extension": ".py",
   "mimetype": "text/x-python",
   "name": "python",
   "nbconvert_exporter": "python",
   "pygments_lexer": "ipython3",
   "version": "3.8.9"
  },
  "orig_nbformat": 4,
  "vscode": {
   "interpreter": {
    "hash": "4d89d975450d2c50172f090a4af740770fc05aa7b50e2bf82c37d2bcf44fd2b6"
   }
  }
 },
 "nbformat": 4,
 "nbformat_minor": 2
}
